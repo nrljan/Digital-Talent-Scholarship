{
  "nbformat": 4,
  "nbformat_minor": 0,
  "metadata": {
    "colab": {
      "name": "Copy of FINAL_SUBMISSION.ipynb",
      "provenance": [],
      "collapsed_sections": []
    },
    "kernelspec": {
      "name": "python3",
      "display_name": "Python 3"
    },
    "language_info": {
      "name": "python"
    },
    "accelerator": "GPU"
  },
  "cells": [
    {
      "cell_type": "markdown",
      "metadata": {
        "id": "AXS33Lp2yAaa"
      },
      "source": [
        "# Pendahuluan\n",
        "Nurul Jannah (personal.nuruljannah@gmail.com)\n",
        "\n",
        "Berikut Pemodelan Jaringan Syaraf Tiruan untuk Klasifikasi Gambar yang saya susun untuk memenuhi syarat lulus kelas 'Belajar Pengembangan Machine Learning'."
      ]
    },
    {
      "cell_type": "markdown",
      "metadata": {
        "id": "L6uDl2jzEv_b"
      },
      "source": [
        "# Mengakses Dataset\n",
        "\n",
        "Untuk mengunduh dataset dari kaggle maka pertama-tama kita perlu menghubungkan Google Colaboratory dengan Kaggle menggunakan Kaggle API."
      ]
    },
    {
      "cell_type": "code",
      "metadata": {
        "id": "eC91KiSiLaWo"
      },
      "source": [
        "! pip install -q kaggle"
      ],
      "execution_count": 1,
      "outputs": []
    },
    {
      "cell_type": "code",
      "metadata": {
        "colab": {
          "resources": {
            "http://localhost:8080/nbextensions/google.colab/files.js": {
              "data": "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",
              "ok": true,
              "headers": [
                [
                  "content-type",
                  "application/javascript"
                ]
              ],
              "status": 200,
              "status_text": ""
            }
          },
          "base_uri": "https://localhost:8080/",
          "height": 109
        },
        "id": "GIV3M2yGLjTu",
        "outputId": "9268283e-f173-4861-e45a-647b3cd8e32c"
      },
      "source": [
        "from google.colab import files\n",
        "\n",
        "files.upload()"
      ],
      "execution_count": 2,
      "outputs": [
        {
          "output_type": "display_data",
          "data": {
            "text/html": [
              "\n",
              "     <input type=\"file\" id=\"files-4cc3c288-b3fa-487e-a7a5-185ea71fa388\" name=\"files[]\" multiple disabled\n",
              "        style=\"border:none\" />\n",
              "     <output id=\"result-4cc3c288-b3fa-487e-a7a5-185ea71fa388\">\n",
              "      Upload widget is only available when the cell has been executed in the\n",
              "      current browser session. Please rerun this cell to enable.\n",
              "      </output>\n",
              "      <script src=\"/nbextensions/google.colab/files.js\"></script> "
            ],
            "text/plain": [
              "<IPython.core.display.HTML object>"
            ]
          },
          "metadata": {
            "tags": []
          }
        },
        {
          "output_type": "stream",
          "text": [
            "Saving kaggle.json to kaggle.json\n"
          ],
          "name": "stdout"
        },
        {
          "output_type": "execute_result",
          "data": {
            "text/plain": [
              "{'kaggle.json': b'{\"username\":\"kynuuu\",\"key\":\"bb4723de81bdc3c6bbddaf30ec71d7c8\"}'}"
            ]
          },
          "metadata": {
            "tags": []
          },
          "execution_count": 2
        }
      ]
    },
    {
      "cell_type": "code",
      "metadata": {
        "id": "MZuEASJvLmZZ"
      },
      "source": [
        "! mkdir ~/.kaggle\n",
        "! cp kaggle.json ~/.kaggle/\n",
        "! chmod 600 ~/.kaggle/kaggle.json"
      ],
      "execution_count": 3,
      "outputs": []
    },
    {
      "cell_type": "markdown",
      "metadata": {
        "id": "pZB8emPDy4Rp"
      },
      "source": [
        "# Mengunduh Dataset\n",
        "\n",
        "Dataset yang akan digunakan pada pemodelan machine learning untuk klasifikasi gambar adalah Female and Male Eyes. Dataset ini terdiri dari ~11525 data dengan rincian 5202 data gambar mata wanita dan 6323 data gambar mata pria."
      ]
    },
    {
      "cell_type": "code",
      "metadata": {
        "colab": {
          "base_uri": "https://localhost:8080/"
        },
        "id": "GsM6xw2fTov_",
        "outputId": "b9defcfb-57a6-4d7f-a2fc-23f01defeac8"
      },
      "source": [
        "!kaggle datasets download -d pavelbiz/eyes-rtte"
      ],
      "execution_count": 5,
      "outputs": [
        {
          "output_type": "stream",
          "text": [
            "Downloading eyes-rtte.zip to /content\n",
            " 92% 37.0M/40.4M [00:00<00:00, 73.1MB/s]\n",
            "100% 40.4M/40.4M [00:00<00:00, 135MB/s] \n"
          ],
          "name": "stdout"
        }
      ]
    },
    {
      "cell_type": "markdown",
      "metadata": {
        "id": "uyysPn84ylCb"
      },
      "source": [
        "# Import Modul\n",
        "Pada bagian ini akan di import beberapa modul yang diperlukan dalam pemodelan jaringan syaraf tiruan untuk klasifikasi gambar menggunakan Tensorflow."
      ]
    },
    {
      "cell_type": "code",
      "metadata": {
        "id": "30HdHKX-GLTI"
      },
      "source": [
        "import tensorflow as tf\n",
        "from keras.models import Sequential\n",
        "from keras.layers import Conv2D\n",
        "from tensorflow.keras.optimizers import RMSprop\n",
        "from tensorflow.keras.preprocessing.image import ImageDataGenerator"
      ],
      "execution_count": 4,
      "outputs": []
    },
    {
      "cell_type": "markdown",
      "metadata": {
        "id": "BI_jGubyzNX_"
      },
      "source": [
        "# Mengekstrak file zip\n",
        "\n",
        "Mengekstrak dataset yang telah diunduh sebelumnya."
      ]
    },
    {
      "cell_type": "code",
      "metadata": {
        "id": "jWnVHEi0T_5u"
      },
      "source": [
        "import os\n",
        "import zipfile\n",
        "\n",
        "local_zip = '/content/eyes-rtte.zip'\n",
        "zip_ref = zipfile.ZipFile(local_zip, 'r')\n",
        "zip_ref.extractall('/content/eyes-dataset')\n",
        "zip_ref.close()"
      ],
      "execution_count": 6,
      "outputs": []
    },
    {
      "cell_type": "code",
      "metadata": {
        "colab": {
          "base_uri": "https://localhost:8080/"
        },
        "id": "3UvvnCsbUjWv",
        "outputId": "2039470e-f36b-45b8-d0b1-13087745afe8"
      },
      "source": [
        "base_dir = '/content/eyes-dataset'\n",
        "os.listdir(base_dir)"
      ],
      "execution_count": 7,
      "outputs": [
        {
          "output_type": "execute_result",
          "data": {
            "text/plain": [
              "['femaleeyes', 'maleeyes']"
            ]
          },
          "metadata": {
            "tags": []
          },
          "execution_count": 7
        }
      ]
    },
    {
      "cell_type": "code",
      "metadata": {
        "colab": {
          "base_uri": "https://localhost:8080/"
        },
        "id": "816BW6hzo874",
        "outputId": "eb5218cf-dc1b-4d83-deed-4bf74a2eb154"
      },
      "source": [
        "# Melihat jumlah gambar pada setiap direktori\n",
        "\n",
        "print('Total Female Eyes Images: ', len(os.listdir('/content/eyes-dataset/femaleeyes')))\n",
        "print('Total Male Eyes Images: ', len(os.listdir('/content/eyes-dataset/maleeyes')))"
      ],
      "execution_count": 22,
      "outputs": [
        {
          "output_type": "stream",
          "text": [
            "Total Female Eyes Images:  5202\n",
            "Total Male Eyes Images:  6323\n"
          ],
          "name": "stdout"
        }
      ]
    },
    {
      "cell_type": "code",
      "metadata": {
        "colab": {
          "base_uri": "https://localhost:8080/",
          "height": 267
        },
        "id": "ET8FPe0UISDA",
        "outputId": "92681475-0c37-49d9-e691-45f16af678ec"
      },
      "source": [
        "# Melihat contoh gambar\n",
        "\n",
        "from keras.preprocessing import image\n",
        "import matplotlib.pyplot as plt\n",
        "import matplotlib.image as mpimg\n",
        "%matplotlib inline\n",
        "\n",
        "img = image.load_img('/content/eyes-dataset/femaleeyes/1.jpg')\n",
        "imgplot = plt.imshow(img)"
      ],
      "execution_count": 23,
      "outputs": [
        {
          "output_type": "display_data",
          "data": {
            "image/png": "[encoded data removed]",
            "text/plain": [
              "<Figure size 432x288 with 1 Axes>"
            ]
          },
          "metadata": {
            "tags": [],
            "needs_background": "light"
          }
        }
      ]
    },
    {
      "cell_type": "markdown",
      "metadata": {
        "id": "ulTC_99F34Wa"
      },
      "source": [
        "# Membuat Objek ImageDataGenerator\n",
        "Pada tahap ini akan dibuat objek ImageDataGenerator untuk data training dan data validation. Tujuan dari pembuatan objek ini adalah untuk mempersiapkan data latih dan data validasi yang akan diberikan ke model."
      ]
    },
    {
      "cell_type": "markdown",
      "metadata": {
        "id": "RT4dFflC6Phg"
      },
      "source": [
        "Kode di bawah menunjukkan proses augmentasi gambar pada setiap sampel di dataset. Hal ini bertujuan untuk memperkaya dataset dengan menciptakan data-data baru dari data yang telah ada. Selain itu, pada tahap ini dilakukan pemisahan dataset menjadi data training dan data validation dengan rasio 80% untuk data training dan 20% untuk data validation."
      ]
    },
    {
      "cell_type": "code",
      "metadata": {
        "id": "1eo31gOnUsTi"
      },
      "source": [
        "train_datagen = ImageDataGenerator(\n",
        "                  rescale = 1./255,\n",
        "                  rotation_range = 20,\n",
        "                  horizontal_flip = True,\n",
        "                  vertical_flip = True,\n",
        "                  shear_range = 0.2,\n",
        "                  fill_mode = 'nearest',\n",
        "                  validation_split = 0.2)"
      ],
      "execution_count": 8,
      "outputs": []
    },
    {
      "cell_type": "code",
      "metadata": {
        "colab": {
          "base_uri": "https://localhost:8080/"
        },
        "id": "oEGXQdBVWnP8",
        "outputId": "ca8db11b-67dc-46f2-f004-596da6c09c7b"
      },
      "source": [
        "train_generator = train_datagen.flow_from_directory(\n",
        "                    base_dir,\n",
        "                    target_size = (150,150),\n",
        "                    batch_size = 32,\n",
        "                    shuffle = True,\n",
        "                    subset ='training',\n",
        "                    class_mode = 'binary')\n",
        "\n",
        "val_generator = train_datagen.flow_from_directory(\n",
        "                    base_dir,\n",
        "                    target_size = (150,150),\n",
        "                    batch_size = 32,\n",
        "                    shuffle = True,\n",
        "                    subset = 'validation',\n",
        "                    class_mode = 'binary')"
      ],
      "execution_count": 9,
      "outputs": [
        {
          "output_type": "stream",
          "text": [
            "Found 9221 images belonging to 2 classes.\n",
            "Found 2304 images belonging to 2 classes.\n"
          ],
          "name": "stdout"
        }
      ]
    },
    {
      "cell_type": "markdown",
      "metadata": {
        "id": "DBfnAqav9hYD"
      },
      "source": [
        "# Membangun Arsitektur CNN\n",
        "Pada tahap ini akan dibuat suatu model Sequential dengan memanfaatkan algoritma CNN."
      ]
    },
    {
      "cell_type": "code",
      "metadata": {
        "id": "0dKvpRY_YXRV"
      },
      "source": [
        "model = tf.keras.models.Sequential([ \n",
        "        tf.keras.layers.Conv2D(32, (3,3), activation='relu', input_shape=(150,150,3)),\n",
        "        tf.keras.layers.MaxPooling2D(2,2),\n",
        "        tf.keras.layers.Conv2D(64, (3,3), activation='relu'),\n",
        "        tf.keras.layers.MaxPool2D(2,2),                                    \n",
        "        tf.keras.layers.Conv2D(128, (3,3), activation='relu'),\n",
        "        tf.keras.layers.MaxPool2D(2,2),                                    \n",
        "        tf.keras.layers.Conv2D(512, (3,3), activation='relu'),\n",
        "        tf.keras.layers.MaxPool2D(2,2),                            \n",
        "        tf.keras.layers.Flatten(),\n",
        "        tf.keras.layers.Dense(128, activation='relu'),\n",
        "        tf.keras.layers.Dense(1, activation='sigmoid')])"
      ],
      "execution_count": 10,
      "outputs": []
    },
    {
      "cell_type": "code",
      "metadata": {
        "id": "Uqe9MbqVfrMw"
      },
      "source": [
        "model.compile(loss = 'binary_crossentropy',\n",
        "              optimizer = 'adam',\n",
        "              metrics = ['accuracy'])"
      ],
      "execution_count": 11,
      "outputs": []
    },
    {
      "cell_type": "markdown",
      "metadata": {
        "id": "b1HtXLzILikw"
      },
      "source": [
        "Pada pemodelan ini digunakan fungsi callback untuk memberi tahu model agar berhenti melakukan pelatihan ketika akurasi data training dan validation telah mencapai 92%."
      ]
    },
    {
      "cell_type": "code",
      "metadata": {
        "id": "20eHiZelaMap"
      },
      "source": [
        "class myCallback(tf.keras.callbacks.Callback):\n",
        "  def on_epoch_end(self, epoch, logs={}):\n",
        "    if logs.get('accuracy') > .92 and logs.get('val_accuracy') > .92:\n",
        "      self.model.stop_training = True\n",
        "    \n",
        "callbacks = myCallback()"
      ],
      "execution_count": 12,
      "outputs": []
    },
    {
      "cell_type": "markdown",
      "metadata": {
        "id": "tjuR3dckL0C6"
      },
      "source": [
        "Terlihat di bawah ini model berhasil menghentikan pelatihan ketika data training dan validation telah mencapai akurasi 92% pada epoch ke 165 dari 300. Artinya kita telah menghemat waktu eksekusi 135 epoch."
      ]
    },
    {
      "cell_type": "code",
      "metadata": {
        "colab": {
          "base_uri": "https://localhost:8080/"
        },
        "id": "yXq-dOxdgZ6n",
        "outputId": "3afa058d-6604-4e33-a9dc-16676c8b007a"
      },
      "source": [
        "# Melatih model\n",
        "\n",
        "history = model.fit(\n",
        "          train_generator,\n",
        "          steps_per_epoch = 25,\n",
        "          epochs = 300,\n",
        "          validation_data = val_generator,\n",
        "          validation_steps = 5,\n",
        "          verbose = 2,\n",
        "          callbacks=[callbacks])"
      ],
      "execution_count": 13,
      "outputs": [
        {
          "output_type": "stream",
          "text": [
            "Epoch 1/300\n",
            "25/25 - 37s - loss: 0.7234 - accuracy: 0.5038 - val_loss: 0.6954 - val_accuracy: 0.4062\n",
            "Epoch 2/300\n",
            "25/25 - 5s - loss: 0.6833 - accuracy: 0.5713 - val_loss: 0.6704 - val_accuracy: 0.6187\n",
            "Epoch 3/300\n",
            "25/25 - 5s - loss: 0.6872 - accuracy: 0.5951 - val_loss: 0.6844 - val_accuracy: 0.5437\n",
            "Epoch 4/300\n",
            "25/25 - 5s - loss: 0.6459 - accuracy: 0.6400 - val_loss: 0.6018 - val_accuracy: 0.7437\n",
            "Epoch 5/300\n",
            "25/25 - 5s - loss: 0.5748 - accuracy: 0.7100 - val_loss: 0.5792 - val_accuracy: 0.6812\n",
            "Epoch 6/300\n",
            "25/25 - 5s - loss: 0.5869 - accuracy: 0.7000 - val_loss: 0.4979 - val_accuracy: 0.7688\n",
            "Epoch 7/300\n",
            "25/25 - 5s - loss: 0.5569 - accuracy: 0.7337 - val_loss: 0.5392 - val_accuracy: 0.7063\n",
            "Epoch 8/300\n",
            "25/25 - 5s - loss: 0.5061 - accuracy: 0.7650 - val_loss: 0.5684 - val_accuracy: 0.7250\n",
            "Epoch 9/300\n",
            "25/25 - 5s - loss: 0.4669 - accuracy: 0.7725 - val_loss: 0.3269 - val_accuracy: 0.9062\n",
            "Epoch 10/300\n",
            "25/25 - 5s - loss: 0.5000 - accuracy: 0.7513 - val_loss: 0.5236 - val_accuracy: 0.7688\n",
            "Epoch 11/300\n",
            "25/25 - 5s - loss: 0.4590 - accuracy: 0.7925 - val_loss: 0.4882 - val_accuracy: 0.7500\n",
            "Epoch 12/300\n",
            "25/25 - 5s - loss: 0.4379 - accuracy: 0.7950 - val_loss: 0.4735 - val_accuracy: 0.7812\n",
            "Epoch 13/300\n",
            "25/25 - 5s - loss: 0.4288 - accuracy: 0.8000 - val_loss: 0.4239 - val_accuracy: 0.8188\n",
            "Epoch 14/300\n",
            "25/25 - 5s - loss: 0.4726 - accuracy: 0.7862 - val_loss: 0.4710 - val_accuracy: 0.7750\n",
            "Epoch 15/300\n",
            "25/25 - 5s - loss: 0.4689 - accuracy: 0.7788 - val_loss: 0.4243 - val_accuracy: 0.7937\n",
            "Epoch 16/300\n",
            "25/25 - 5s - loss: 0.4378 - accuracy: 0.7925 - val_loss: 0.3992 - val_accuracy: 0.8313\n",
            "Epoch 17/300\n",
            "25/25 - 5s - loss: 0.4284 - accuracy: 0.8087 - val_loss: 0.4346 - val_accuracy: 0.7937\n",
            "Epoch 18/300\n",
            "25/25 - 5s - loss: 0.4398 - accuracy: 0.7975 - val_loss: 0.5314 - val_accuracy: 0.7625\n",
            "Epoch 19/300\n",
            "25/25 - 5s - loss: 0.4418 - accuracy: 0.7962 - val_loss: 0.4010 - val_accuracy: 0.8000\n",
            "Epoch 20/300\n",
            "25/25 - 5s - loss: 0.3970 - accuracy: 0.8238 - val_loss: 0.3725 - val_accuracy: 0.8438\n",
            "Epoch 21/300\n",
            "25/25 - 5s - loss: 0.4112 - accuracy: 0.8112 - val_loss: 0.4412 - val_accuracy: 0.7875\n",
            "Epoch 22/300\n",
            "25/25 - 5s - loss: 0.3763 - accuracy: 0.8275 - val_loss: 0.3878 - val_accuracy: 0.8062\n",
            "Epoch 23/300\n",
            "25/25 - 5s - loss: 0.3970 - accuracy: 0.8175 - val_loss: 0.3269 - val_accuracy: 0.8500\n",
            "Epoch 24/300\n",
            "25/25 - 5s - loss: 0.4077 - accuracy: 0.8213 - val_loss: 0.4400 - val_accuracy: 0.8188\n",
            "Epoch 25/300\n",
            "25/25 - 5s - loss: 0.3943 - accuracy: 0.8150 - val_loss: 0.5597 - val_accuracy: 0.7375\n",
            "Epoch 26/300\n",
            "25/25 - 5s - loss: 0.4278 - accuracy: 0.8213 - val_loss: 0.4956 - val_accuracy: 0.8062\n",
            "Epoch 27/300\n",
            "25/25 - 5s - loss: 0.3956 - accuracy: 0.8188 - val_loss: 0.4212 - val_accuracy: 0.8062\n",
            "Epoch 28/300\n",
            "25/25 - 5s - loss: 0.4029 - accuracy: 0.8188 - val_loss: 0.4239 - val_accuracy: 0.7688\n",
            "Epoch 29/300\n",
            "25/25 - 5s - loss: 0.4101 - accuracy: 0.8250 - val_loss: 0.4005 - val_accuracy: 0.7937\n",
            "Epoch 30/300\n",
            "25/25 - 5s - loss: 0.3972 - accuracy: 0.8163 - val_loss: 0.3398 - val_accuracy: 0.8562\n",
            "Epoch 31/300\n",
            "25/25 - 5s - loss: 0.3607 - accuracy: 0.8438 - val_loss: 0.3958 - val_accuracy: 0.8313\n",
            "Epoch 32/300\n",
            "25/25 - 5s - loss: 0.3717 - accuracy: 0.8350 - val_loss: 0.4472 - val_accuracy: 0.7750\n",
            "Epoch 33/300\n",
            "25/25 - 5s - loss: 0.4077 - accuracy: 0.8275 - val_loss: 0.3375 - val_accuracy: 0.8500\n",
            "Epoch 34/300\n",
            "25/25 - 5s - loss: 0.3732 - accuracy: 0.8288 - val_loss: 0.4181 - val_accuracy: 0.8062\n",
            "Epoch 35/300\n",
            "25/25 - 5s - loss: 0.3805 - accuracy: 0.8350 - val_loss: 0.3189 - val_accuracy: 0.8750\n",
            "Epoch 36/300\n",
            "25/25 - 5s - loss: 0.2993 - accuracy: 0.8700 - val_loss: 0.3029 - val_accuracy: 0.8562\n",
            "Epoch 37/300\n",
            "25/25 - 5s - loss: 0.3856 - accuracy: 0.8213 - val_loss: 0.3614 - val_accuracy: 0.8062\n",
            "Epoch 38/300\n",
            "25/25 - 5s - loss: 0.3490 - accuracy: 0.8313 - val_loss: 0.3705 - val_accuracy: 0.8813\n",
            "Epoch 39/300\n",
            "25/25 - 5s - loss: 0.3501 - accuracy: 0.8500 - val_loss: 0.3204 - val_accuracy: 0.8562\n",
            "Epoch 40/300\n",
            "25/25 - 5s - loss: 0.3602 - accuracy: 0.8562 - val_loss: 0.3896 - val_accuracy: 0.8188\n",
            "Epoch 41/300\n",
            "25/25 - 5s - loss: 0.3582 - accuracy: 0.8461 - val_loss: 0.3601 - val_accuracy: 0.8438\n",
            "Epoch 42/300\n",
            "25/25 - 5s - loss: 0.3537 - accuracy: 0.8499 - val_loss: 0.2944 - val_accuracy: 0.8750\n",
            "Epoch 43/300\n",
            "25/25 - 5s - loss: 0.3475 - accuracy: 0.8537 - val_loss: 0.3148 - val_accuracy: 0.8438\n",
            "Epoch 44/300\n",
            "25/25 - 5s - loss: 0.3370 - accuracy: 0.8575 - val_loss: 0.2618 - val_accuracy: 0.8875\n",
            "Epoch 45/300\n",
            "25/25 - 5s - loss: 0.3604 - accuracy: 0.8438 - val_loss: 0.3519 - val_accuracy: 0.8562\n",
            "Epoch 46/300\n",
            "25/25 - 5s - loss: 0.3415 - accuracy: 0.8575 - val_loss: 0.2993 - val_accuracy: 0.8875\n",
            "Epoch 47/300\n",
            "25/25 - 5s - loss: 0.3761 - accuracy: 0.8344 - val_loss: 0.3257 - val_accuracy: 0.8438\n",
            "Epoch 48/300\n",
            "25/25 - 5s - loss: 0.3102 - accuracy: 0.8687 - val_loss: 0.2771 - val_accuracy: 0.8938\n",
            "Epoch 49/300\n",
            "25/25 - 5s - loss: 0.3125 - accuracy: 0.8612 - val_loss: 0.2570 - val_accuracy: 0.9000\n",
            "Epoch 50/300\n",
            "25/25 - 5s - loss: 0.3401 - accuracy: 0.8438 - val_loss: 0.2810 - val_accuracy: 0.8562\n",
            "Epoch 51/300\n",
            "25/25 - 5s - loss: 0.3674 - accuracy: 0.8537 - val_loss: 0.2342 - val_accuracy: 0.8938\n",
            "Epoch 52/300\n",
            "25/25 - 5s - loss: 0.3055 - accuracy: 0.8737 - val_loss: 0.3095 - val_accuracy: 0.8813\n",
            "Epoch 53/300\n",
            "25/25 - 5s - loss: 0.2892 - accuracy: 0.8823 - val_loss: 0.2418 - val_accuracy: 0.8875\n",
            "Epoch 54/300\n",
            "25/25 - 5s - loss: 0.3170 - accuracy: 0.8700 - val_loss: 0.2804 - val_accuracy: 0.9062\n",
            "Epoch 55/300\n",
            "25/25 - 5s - loss: 0.2923 - accuracy: 0.8737 - val_loss: 0.3253 - val_accuracy: 0.8750\n",
            "Epoch 56/300\n",
            "25/25 - 5s - loss: 0.3470 - accuracy: 0.8500 - val_loss: 0.3291 - val_accuracy: 0.8625\n",
            "Epoch 57/300\n",
            "25/25 - 5s - loss: 0.2980 - accuracy: 0.8675 - val_loss: 0.3655 - val_accuracy: 0.8438\n",
            "Epoch 58/300\n",
            "25/25 - 5s - loss: 0.3625 - accuracy: 0.8388 - val_loss: 0.3718 - val_accuracy: 0.8562\n",
            "Epoch 59/300\n",
            "25/25 - 5s - loss: 0.3405 - accuracy: 0.8537 - val_loss: 0.3099 - val_accuracy: 0.8750\n",
            "Epoch 60/300\n",
            "25/25 - 5s - loss: 0.2945 - accuracy: 0.8700 - val_loss: 0.4088 - val_accuracy: 0.8313\n",
            "Epoch 61/300\n",
            "25/25 - 5s - loss: 0.2946 - accuracy: 0.8737 - val_loss: 0.3202 - val_accuracy: 0.8562\n",
            "Epoch 62/300\n",
            "25/25 - 5s - loss: 0.3050 - accuracy: 0.8784 - val_loss: 0.3549 - val_accuracy: 0.8562\n",
            "Epoch 63/300\n",
            "25/25 - 5s - loss: 0.3135 - accuracy: 0.8687 - val_loss: 0.3717 - val_accuracy: 0.8250\n",
            "Epoch 64/300\n",
            "25/25 - 5s - loss: 0.3024 - accuracy: 0.8687 - val_loss: 0.3463 - val_accuracy: 0.8625\n",
            "Epoch 65/300\n",
            "25/25 - 5s - loss: 0.2596 - accuracy: 0.8875 - val_loss: 0.3553 - val_accuracy: 0.8500\n",
            "Epoch 66/300\n",
            "25/25 - 5s - loss: 0.2839 - accuracy: 0.8838 - val_loss: 0.2556 - val_accuracy: 0.8875\n",
            "Epoch 67/300\n",
            "25/25 - 5s - loss: 0.2720 - accuracy: 0.8950 - val_loss: 0.2578 - val_accuracy: 0.8687\n",
            "Epoch 68/300\n",
            "25/25 - 5s - loss: 0.3323 - accuracy: 0.8662 - val_loss: 0.1922 - val_accuracy: 0.9250\n",
            "Epoch 69/300\n",
            "25/25 - 5s - loss: 0.2878 - accuracy: 0.8788 - val_loss: 0.3127 - val_accuracy: 0.8375\n",
            "Epoch 70/300\n",
            "25/25 - 5s - loss: 0.2658 - accuracy: 0.8950 - val_loss: 0.3259 - val_accuracy: 0.8500\n",
            "Epoch 71/300\n",
            "25/25 - 5s - loss: 0.3468 - accuracy: 0.8512 - val_loss: 0.3328 - val_accuracy: 0.8625\n",
            "Epoch 72/300\n",
            "25/25 - 5s - loss: 0.2717 - accuracy: 0.8850 - val_loss: 0.3522 - val_accuracy: 0.8562\n",
            "Epoch 73/300\n",
            "25/25 - 5s - loss: 0.2793 - accuracy: 0.8687 - val_loss: 0.2397 - val_accuracy: 0.9125\n",
            "Epoch 74/300\n",
            "25/25 - 5s - loss: 0.2765 - accuracy: 0.8850 - val_loss: 0.3181 - val_accuracy: 0.8625\n",
            "Epoch 75/300\n",
            "25/25 - 5s - loss: 0.2735 - accuracy: 0.8888 - val_loss: 0.2431 - val_accuracy: 0.9062\n",
            "Epoch 76/300\n",
            "25/25 - 5s - loss: 0.2915 - accuracy: 0.8850 - val_loss: 0.3167 - val_accuracy: 0.8500\n",
            "Epoch 77/300\n",
            "25/25 - 5s - loss: 0.3037 - accuracy: 0.8719 - val_loss: 0.2208 - val_accuracy: 0.9125\n",
            "Epoch 78/300\n",
            "25/25 - 5s - loss: 0.2804 - accuracy: 0.8875 - val_loss: 0.2591 - val_accuracy: 0.9000\n",
            "Epoch 79/300\n",
            "25/25 - 5s - loss: 0.2694 - accuracy: 0.8938 - val_loss: 0.3126 - val_accuracy: 0.8562\n",
            "Epoch 80/300\n",
            "25/25 - 5s - loss: 0.3442 - accuracy: 0.8500 - val_loss: 0.2346 - val_accuracy: 0.9062\n",
            "Epoch 81/300\n",
            "25/25 - 5s - loss: 0.2630 - accuracy: 0.9025 - val_loss: 0.3336 - val_accuracy: 0.8375\n",
            "Epoch 82/300\n",
            "25/25 - 5s - loss: 0.2301 - accuracy: 0.9013 - val_loss: 0.2739 - val_accuracy: 0.9062\n",
            "Epoch 83/300\n",
            "25/25 - 5s - loss: 0.2663 - accuracy: 0.9025 - val_loss: 0.2292 - val_accuracy: 0.9000\n",
            "Epoch 84/300\n",
            "25/25 - 5s - loss: 0.2587 - accuracy: 0.8888 - val_loss: 0.3111 - val_accuracy: 0.8875\n",
            "Epoch 85/300\n",
            "25/25 - 5s - loss: 0.2916 - accuracy: 0.8863 - val_loss: 0.2536 - val_accuracy: 0.9062\n",
            "Epoch 86/300\n",
            "25/25 - 5s - loss: 0.3016 - accuracy: 0.8650 - val_loss: 0.2655 - val_accuracy: 0.8562\n",
            "Epoch 87/300\n",
            "25/25 - 5s - loss: 0.2334 - accuracy: 0.9087 - val_loss: 0.2588 - val_accuracy: 0.8687\n",
            "Epoch 88/300\n",
            "25/25 - 5s - loss: 0.2725 - accuracy: 0.8825 - val_loss: 0.2243 - val_accuracy: 0.8875\n",
            "Epoch 89/300\n",
            "25/25 - 5s - loss: 0.2466 - accuracy: 0.8863 - val_loss: 0.2892 - val_accuracy: 0.8625\n",
            "Epoch 90/300\n",
            "25/25 - 5s - loss: 0.3068 - accuracy: 0.8687 - val_loss: 0.2207 - val_accuracy: 0.9187\n",
            "Epoch 91/300\n",
            "25/25 - 5s - loss: 0.2878 - accuracy: 0.8775 - val_loss: 0.2425 - val_accuracy: 0.8687\n",
            "Epoch 92/300\n",
            "25/25 - 5s - loss: 0.2930 - accuracy: 0.8862 - val_loss: 0.2365 - val_accuracy: 0.8813\n",
            "Epoch 93/300\n",
            "25/25 - 5s - loss: 0.2328 - accuracy: 0.9175 - val_loss: 0.2179 - val_accuracy: 0.8750\n",
            "Epoch 94/300\n",
            "25/25 - 5s - loss: 0.2748 - accuracy: 0.8825 - val_loss: 0.2230 - val_accuracy: 0.9125\n",
            "Epoch 95/300\n",
            "25/25 - 5s - loss: 0.1965 - accuracy: 0.9287 - val_loss: 0.2226 - val_accuracy: 0.9187\n",
            "Epoch 96/300\n",
            "25/25 - 5s - loss: 0.2656 - accuracy: 0.8838 - val_loss: 0.2116 - val_accuracy: 0.9062\n",
            "Epoch 97/300\n",
            "25/25 - 5s - loss: 0.2545 - accuracy: 0.9050 - val_loss: 0.2260 - val_accuracy: 0.9125\n",
            "Epoch 98/300\n",
            "25/25 - 5s - loss: 0.2502 - accuracy: 0.8938 - val_loss: 0.2155 - val_accuracy: 0.9000\n",
            "Epoch 99/300\n",
            "25/25 - 5s - loss: 0.3033 - accuracy: 0.8788 - val_loss: 0.2586 - val_accuracy: 0.9000\n",
            "Epoch 100/300\n",
            "25/25 - 5s - loss: 0.2471 - accuracy: 0.8875 - val_loss: 0.2084 - val_accuracy: 0.9250\n",
            "Epoch 101/300\n",
            "25/25 - 5s - loss: 0.2530 - accuracy: 0.9000 - val_loss: 0.3638 - val_accuracy: 0.8438\n",
            "Epoch 102/300\n",
            "25/25 - 5s - loss: 0.2605 - accuracy: 0.9013 - val_loss: 0.2191 - val_accuracy: 0.9000\n",
            "Epoch 103/300\n",
            "25/25 - 5s - loss: 0.2583 - accuracy: 0.8975 - val_loss: 0.2387 - val_accuracy: 0.9000\n",
            "Epoch 104/300\n",
            "25/25 - 5s - loss: 0.2433 - accuracy: 0.9075 - val_loss: 0.2427 - val_accuracy: 0.9062\n",
            "Epoch 105/300\n",
            "25/25 - 5s - loss: 0.2559 - accuracy: 0.8900 - val_loss: 0.3917 - val_accuracy: 0.8313\n",
            "Epoch 106/300\n",
            "25/25 - 5s - loss: 0.2688 - accuracy: 0.8975 - val_loss: 0.2603 - val_accuracy: 0.9062\n",
            "Epoch 107/300\n",
            "25/25 - 5s - loss: 0.2191 - accuracy: 0.9013 - val_loss: 0.2055 - val_accuracy: 0.9187\n",
            "Epoch 108/300\n",
            "25/25 - 5s - loss: 0.2424 - accuracy: 0.8988 - val_loss: 0.2009 - val_accuracy: 0.9062\n",
            "Epoch 109/300\n",
            "25/25 - 5s - loss: 0.2050 - accuracy: 0.9038 - val_loss: 0.3323 - val_accuracy: 0.8687\n",
            "Epoch 110/300\n",
            "25/25 - 5s - loss: 0.2319 - accuracy: 0.9025 - val_loss: 0.3316 - val_accuracy: 0.8625\n",
            "Epoch 111/300\n",
            "25/25 - 5s - loss: 0.3033 - accuracy: 0.8737 - val_loss: 0.2523 - val_accuracy: 0.9062\n",
            "Epoch 112/300\n",
            "25/25 - 5s - loss: 0.2694 - accuracy: 0.8938 - val_loss: 0.2754 - val_accuracy: 0.8875\n",
            "Epoch 113/300\n",
            "25/25 - 5s - loss: 0.2188 - accuracy: 0.9172 - val_loss: 0.1929 - val_accuracy: 0.9125\n",
            "Epoch 114/300\n",
            "25/25 - 5s - loss: 0.2805 - accuracy: 0.8737 - val_loss: 0.3479 - val_accuracy: 0.8750\n",
            "Epoch 115/300\n",
            "25/25 - 5s - loss: 0.2494 - accuracy: 0.9030 - val_loss: 0.3127 - val_accuracy: 0.8375\n",
            "Epoch 116/300\n",
            "25/25 - 5s - loss: 0.2349 - accuracy: 0.9000 - val_loss: 0.2093 - val_accuracy: 0.9250\n",
            "Epoch 117/300\n",
            "25/25 - 5s - loss: 0.2161 - accuracy: 0.9112 - val_loss: 0.2282 - val_accuracy: 0.8938\n",
            "Epoch 118/300\n",
            "25/25 - 5s - loss: 0.2278 - accuracy: 0.8988 - val_loss: 0.2872 - val_accuracy: 0.8625\n",
            "Epoch 119/300\n",
            "25/25 - 5s - loss: 0.2222 - accuracy: 0.9175 - val_loss: 0.2308 - val_accuracy: 0.9000\n",
            "Epoch 120/300\n",
            "25/25 - 5s - loss: 0.2230 - accuracy: 0.9100 - val_loss: 0.1950 - val_accuracy: 0.9125\n",
            "Epoch 121/300\n",
            "25/25 - 5s - loss: 0.2312 - accuracy: 0.9050 - val_loss: 0.2784 - val_accuracy: 0.8625\n",
            "Epoch 122/300\n",
            "25/25 - 5s - loss: 0.2537 - accuracy: 0.9013 - val_loss: 0.2470 - val_accuracy: 0.8875\n",
            "Epoch 123/300\n",
            "25/25 - 5s - loss: 0.2122 - accuracy: 0.9250 - val_loss: 0.2624 - val_accuracy: 0.8875\n",
            "Epoch 124/300\n",
            "25/25 - 5s - loss: 0.2192 - accuracy: 0.9062 - val_loss: 0.2112 - val_accuracy: 0.9187\n",
            "Epoch 125/300\n",
            "25/25 - 5s - loss: 0.2250 - accuracy: 0.9137 - val_loss: 0.2350 - val_accuracy: 0.9125\n",
            "Epoch 126/300\n",
            "25/25 - 5s - loss: 0.2526 - accuracy: 0.8838 - val_loss: 0.1917 - val_accuracy: 0.9000\n",
            "Epoch 127/300\n",
            "25/25 - 5s - loss: 0.2214 - accuracy: 0.9112 - val_loss: 0.1931 - val_accuracy: 0.9187\n",
            "Epoch 128/300\n",
            "25/25 - 5s - loss: 0.1934 - accuracy: 0.9172 - val_loss: 0.1819 - val_accuracy: 0.9375\n",
            "Epoch 129/300\n",
            "25/25 - 5s - loss: 0.2421 - accuracy: 0.9075 - val_loss: 0.2795 - val_accuracy: 0.8875\n",
            "Epoch 130/300\n",
            "25/25 - 5s - loss: 0.2167 - accuracy: 0.9100 - val_loss: 0.2187 - val_accuracy: 0.9312\n",
            "Epoch 131/300\n",
            "25/25 - 5s - loss: 0.2347 - accuracy: 0.9038 - val_loss: 0.2120 - val_accuracy: 0.9250\n",
            "Epoch 132/300\n",
            "25/25 - 5s - loss: 0.2194 - accuracy: 0.9075 - val_loss: 0.2603 - val_accuracy: 0.8875\n",
            "Epoch 133/300\n",
            "25/25 - 5s - loss: 0.2616 - accuracy: 0.8925 - val_loss: 0.2530 - val_accuracy: 0.9062\n",
            "Epoch 134/300\n",
            "25/25 - 5s - loss: 0.2304 - accuracy: 0.9025 - val_loss: 0.2301 - val_accuracy: 0.9187\n",
            "Epoch 135/300\n",
            "25/25 - 5s - loss: 0.2198 - accuracy: 0.9038 - val_loss: 0.2502 - val_accuracy: 0.8500\n",
            "Epoch 136/300\n",
            "25/25 - 5s - loss: 0.2401 - accuracy: 0.9038 - val_loss: 0.2179 - val_accuracy: 0.8875\n",
            "Epoch 137/300\n",
            "25/25 - 5s - loss: 0.2513 - accuracy: 0.8850 - val_loss: 0.2345 - val_accuracy: 0.9000\n",
            "Epoch 138/300\n",
            "25/25 - 5s - loss: 0.2219 - accuracy: 0.9050 - val_loss: 0.2743 - val_accuracy: 0.8562\n",
            "Epoch 139/300\n",
            "25/25 - 5s - loss: 0.1978 - accuracy: 0.9237 - val_loss: 0.2200 - val_accuracy: 0.9125\n",
            "Epoch 140/300\n",
            "25/25 - 5s - loss: 0.2316 - accuracy: 0.9038 - val_loss: 0.2037 - val_accuracy: 0.9375\n",
            "Epoch 141/300\n",
            "25/25 - 5s - loss: 0.2855 - accuracy: 0.8800 - val_loss: 0.2492 - val_accuracy: 0.8813\n",
            "Epoch 142/300\n",
            "25/25 - 5s - loss: 0.2255 - accuracy: 0.9137 - val_loss: 0.2498 - val_accuracy: 0.8875\n",
            "Epoch 143/300\n",
            "25/25 - 5s - loss: 0.2231 - accuracy: 0.9175 - val_loss: 0.1979 - val_accuracy: 0.9312\n",
            "Epoch 144/300\n",
            "25/25 - 5s - loss: 0.2389 - accuracy: 0.9187 - val_loss: 0.1984 - val_accuracy: 0.9312\n",
            "Epoch 145/300\n",
            "25/25 - 5s - loss: 0.2210 - accuracy: 0.9125 - val_loss: 0.2196 - val_accuracy: 0.8938\n",
            "Epoch 146/300\n",
            "25/25 - 5s - loss: 0.2270 - accuracy: 0.9050 - val_loss: 0.1866 - val_accuracy: 0.9375\n",
            "Epoch 147/300\n",
            "25/25 - 5s - loss: 0.2542 - accuracy: 0.8975 - val_loss: 0.1825 - val_accuracy: 0.9312\n",
            "Epoch 148/300\n",
            "25/25 - 5s - loss: 0.2519 - accuracy: 0.8862 - val_loss: 0.1923 - val_accuracy: 0.9187\n",
            "Epoch 149/300\n",
            "25/25 - 5s - loss: 0.1852 - accuracy: 0.9312 - val_loss: 0.1947 - val_accuracy: 0.8938\n",
            "Epoch 150/300\n",
            "25/25 - 5s - loss: 0.1951 - accuracy: 0.9237 - val_loss: 0.2241 - val_accuracy: 0.9062\n",
            "Epoch 151/300\n",
            "25/25 - 5s - loss: 0.2326 - accuracy: 0.9150 - val_loss: 0.2845 - val_accuracy: 0.8625\n",
            "Epoch 152/300\n",
            "25/25 - 5s - loss: 0.2121 - accuracy: 0.9150 - val_loss: 0.2017 - val_accuracy: 0.9125\n",
            "Epoch 153/300\n",
            "25/25 - 5s - loss: 0.2277 - accuracy: 0.9125 - val_loss: 0.1914 - val_accuracy: 0.9125\n",
            "Epoch 154/300\n",
            "25/25 - 5s - loss: 0.2126 - accuracy: 0.9175 - val_loss: 0.2385 - val_accuracy: 0.9062\n",
            "Epoch 155/300\n",
            "25/25 - 5s - loss: 0.2295 - accuracy: 0.9137 - val_loss: 0.2139 - val_accuracy: 0.8813\n",
            "Epoch 156/300\n",
            "25/25 - 5s - loss: 0.2289 - accuracy: 0.9075 - val_loss: 0.2351 - val_accuracy: 0.8875\n",
            "Epoch 157/300\n",
            "25/25 - 5s - loss: 0.2232 - accuracy: 0.9050 - val_loss: 0.2738 - val_accuracy: 0.8750\n",
            "Epoch 158/300\n",
            "25/25 - 5s - loss: 0.1998 - accuracy: 0.9250 - val_loss: 0.3006 - val_accuracy: 0.8875\n",
            "Epoch 159/300\n",
            "25/25 - 5s - loss: 0.2242 - accuracy: 0.9062 - val_loss: 0.2456 - val_accuracy: 0.8938\n",
            "Epoch 160/300\n",
            "25/25 - 5s - loss: 0.1964 - accuracy: 0.9162 - val_loss: 0.2726 - val_accuracy: 0.8938\n",
            "Epoch 161/300\n",
            "25/25 - 5s - loss: 0.2125 - accuracy: 0.9125 - val_loss: 0.2303 - val_accuracy: 0.9000\n",
            "Epoch 162/300\n",
            "25/25 - 5s - loss: 0.2285 - accuracy: 0.9125 - val_loss: 0.2354 - val_accuracy: 0.8813\n",
            "Epoch 163/300\n",
            "25/25 - 5s - loss: 0.2176 - accuracy: 0.9112 - val_loss: 0.2380 - val_accuracy: 0.9187\n",
            "Epoch 164/300\n",
            "25/25 - 5s - loss: 0.2341 - accuracy: 0.9025 - val_loss: 0.1923 - val_accuracy: 0.8938\n",
            "Epoch 165/300\n",
            "25/25 - 5s - loss: 0.1806 - accuracy: 0.9325 - val_loss: 0.2041 - val_accuracy: 0.9250\n"
          ],
          "name": "stdout"
        }
      ]
    },
    {
      "cell_type": "markdown",
      "metadata": {
        "id": "e_j6BGgwKtAD"
      },
      "source": [
        "# Prediksi Gambar\n",
        "\n",
        "Memprediksi gambar menggunakan model yang telah dibuat sebelumnya. Adapun gambar yang diuji adalah gambar yang diperoleh dari Google."
      ]
    },
    {
      "cell_type": "code",
      "metadata": {
        "id": "3SF3eOSzq8sD",
        "colab": {
          "resources": {
            "http://localhost:8080/nbextensions/google.colab/files.js": {
              "data": "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",
              "ok": true,
              "headers": [
                [
                  "content-type",
                  "application/javascript"
                ]
              ],
              "status": 200,
              "status_text": ""
            }
          },
          "base_uri": "https://localhost:8080/",
          "height": 358
        },
        "outputId": "a889c46c-18f4-4090-fb9d-f6f0c5760e04"
      },
      "source": [
        "import numpy as np\n",
        "from google.colab import files\n",
        "from keras.preprocessing import image\n",
        "import matplotlib.pyplot as plt\n",
        "import matplotlib.image as mpimg\n",
        "%matplotlib inline\n",
        "\n",
        "uploaded = files.upload()\n",
        "\n",
        "for fn in uploaded.keys():\n",
        "  \n",
        "  # prediksi gambar\n",
        "  path = fn\n",
        "  img = image.load_img(path, target_size = (150, 150))\n",
        "  imgplot = plt.imshow(img)\n",
        "  x = image.img_to_array(img)\n",
        "  x = np.expand_dims(x, axis=0)\n",
        "\n",
        "  images = np.vstack([x])\n",
        "  classes = model.predict(images, batch_size = 10)\n",
        "\n",
        "  print(fn)\n",
        "  if classes==0:\n",
        "    print('female eyes')\n",
        "  else:\n",
        "    print('male eyes')"
      ],
      "execution_count": 24,
      "outputs": [
        {
          "output_type": "display_data",
          "data": {
            "text/html": [
              "\n",
              "     <input type=\"file\" id=\"files-1c02c85e-7cc9-48bd-8aa7-a65e7c2bb447\" name=\"files[]\" multiple disabled\n",
              "        style=\"border:none\" />\n",
              "     <output id=\"result-1c02c85e-7cc9-48bd-8aa7-a65e7c2bb447\">\n",
              "      Upload widget is only available when the cell has been executed in the\n",
              "      current browser session. Please rerun this cell to enable.\n",
              "      </output>\n",
              "      <script src=\"/nbextensions/google.colab/files.js\"></script> "
            ],
            "text/plain": [
              "<IPython.core.display.HTML object>"
            ]
          },
          "metadata": {
            "tags": []
          }
        },
        {
          "output_type": "stream",
          "text": [
            "Saving fe.jpg to fe.jpg\n",
            "fe.jpg\n",
            "female eyes\n"
          ],
          "name": "stdout"
        },
        {
          "output_type": "display_data",
          "data": {
            "image/png": "[encoded data removed]",
            "text/plain": [
              "<Figure size 432x288 with 1 Axes>"
            ]
          },
          "metadata": {
            "tags": [],
            "needs_background": "light"
          }
        }
      ]
    },
    {
      "cell_type": "markdown",
      "metadata": {
        "id": "elEwxSl0LDyC"
      },
      "source": [
        "# Plot Loss dan Akurasi"
      ]
    },
    {
      "cell_type": "code",
      "metadata": {
        "colab": {
          "base_uri": "https://localhost:8080/",
          "height": 295
        },
        "id": "Jl-yD8IB_0rR",
        "outputId": "aa94ed0b-cbd4-48a3-ad31-40199efed1b2"
      },
      "source": [
        "import matplotlib.pyplot as plt\n",
        "\n",
        "plt.plot(history.history['loss'])\n",
        "plt.plot(history.history['val_loss'])\n",
        "plt.title('Model Loss')\n",
        "plt.ylabel('Loss')\n",
        "plt.xlabel('Epoch')\n",
        "plt.legend(['Train', 'Test'], loc='upper right')\n",
        "plt.show()"
      ],
      "execution_count": 18,
      "outputs": [
        {
          "output_type": "display_data",
          "data": {
            "image/png": "[encoded data removed]",
            "text/plain": [
              "<Figure size 432x288 with 1 Axes>"
            ]
          },
          "metadata": {
            "tags": [],
            "needs_background": "light"
          }
        }
      ]
    },
    {
      "cell_type": "code",
      "metadata": {
        "colab": {
          "base_uri": "https://localhost:8080/",
          "height": 295
        },
        "id": "I7EEgKVC_-h1",
        "outputId": "f1ce1d85-5e0d-4a80-f044-edd47b70968c"
      },
      "source": [
        "plt.plot(history.history['accuracy'])\n",
        "plt.plot(history.history['val_accuracy'])\n",
        "plt.title('Model Accuracy')\n",
        "plt.ylabel('Accuracy')\n",
        "plt.xlabel('Epoch')\n",
        "plt.legend(['Train', 'Test'], loc='lower right')\n",
        "plt.show()"
      ],
      "execution_count": 19,
      "outputs": [
        {
          "output_type": "display_data",
          "data": {
            "image/png": "[encoded data removed]",
            "text/plain": [
              "<Figure size 432x288 with 1 Axes>"
            ]
          },
          "metadata": {
            "tags": [],
            "needs_background": "light"
          }
        }
      ]
    },
    {
      "cell_type": "markdown",
      "metadata": {
        "id": "I6BLsWHNLHwd"
      },
      "source": [
        "# Save Model to TF-Lite"
      ]
    },
    {
      "cell_type": "code",
      "metadata": {
        "colab": {
          "base_uri": "https://localhost:8080/"
        },
        "id": "S1K1YHCbAHdm",
        "outputId": "fb6f62b5-1f06-4099-8408-3ddf11ca2531"
      },
      "source": [
        "converter = tf.lite.TFLiteConverter.from_keras_model(model)\n",
        "tflite_model = converter.convert()\n",
        "\n",
        "with tf.io.gfile.GFile('model.tflite', 'wb') as f:\n",
        "  f.write(tflite_model)"
      ],
      "execution_count": 21,
      "outputs": [
        {
          "output_type": "stream",
          "text": [
            "INFO:tensorflow:Assets written to: /tmp/tmphfvjeyod/assets\n"
          ],
          "name": "stdout"
        }
      ]
    },
    {
      "cell_type": "code",
      "metadata": {
        "id": "qOvR52-gABce"
      },
      "source": [
        ""
      ],
      "execution_count": null,
      "outputs": []
    }
  ]
}