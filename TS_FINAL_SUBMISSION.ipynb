{
  "nbformat": 4,
  "nbformat_minor": 0,
  "metadata": {
    "colab": {
      "name": "TS_FINAL_SUBMISSION.ipynb",
      "provenance": [],
      "collapsed_sections": []
    },
    "kernelspec": {
      "name": "python3",
      "display_name": "Python 3"
    },
    "language_info": {
      "name": "python"
    }
  },
  "cells": [
    {
      "cell_type": "markdown",
      "metadata": {
        "id": "hejbaiu7XA7h"
      },
      "source": [
        "# Pendahuluan\n",
        "\n",
        "Nurul Jannah (personal.nuruljannah@gmail.com)\n",
        "\n",
        "Berikut Pemodelan Machine Learning dengan Data Time Series yang saya susun untuk memenuhi syarat lulus kelas 'Belajar Pengembangan Machine Learning'."
      ]
    },
    {
      "cell_type": "markdown",
      "metadata": {
        "id": "05cfDUCDXazP"
      },
      "source": [
        "# Mengakses Dataset\n",
        "\n",
        "Untuk mengunduh dataset dari kaggle maka pertama-tama kita perlu menghubungkan Google Colaboratory dengan Kaggle menggunakan Kaggle API."
      ]
    },
    {
      "cell_type": "code",
      "metadata": {
        "id": "MNlqLwXZKdqP"
      },
      "source": [
        "!pip install -q kaggle"
      ],
      "execution_count": 1,
      "outputs": []
    },
    {
      "cell_type": "code",
      "metadata": {
        "colab": {
          "resources": {
            "http://localhost:8080/nbextensions/google.colab/files.js": {
              "data": "Ly8gQ29weXJpZ2h0IDIwMTcgR29vZ2xlIExMQwovLwovLyBMaWNlbnNlZCB1bmRlciB0aGUgQXBhY2hlIExpY2Vuc2UsIFZlcnNpb24gMi4wICh0aGUgIkxpY2Vuc2UiKTsKLy8geW91IG1heSBub3QgdXNlIHRoaXMgZmlsZSBleGNlcHQgaW4gY29tcGxpYW5jZSB3aXRoIHRoZSBMaWNlbnNlLgovLyBZb3UgbWF5IG9idGFpbiBhIGNvcHkgb2YgdGhlIExpY2Vuc2UgYXQKLy8KLy8gICAgICBodHRwOi8vd3d3LmFwYWNoZS5vcmcvbGljZW5zZXMvTElDRU5TRS0yLjAKLy8KLy8gVW5sZXNzIHJlcXVpcmVkIGJ5IGFwcGxpY2FibGUgbGF3IG9yIGFncmVlZCB0byBpbiB3cml0aW5nLCBzb2Z0d2FyZQovLyBkaXN0cmlidXRlZCB1bmRlciB0aGUgTGljZW5zZSBpcyBkaXN0cmlidXRlZCBvbiBhbiAiQVMgSVMiIEJBU0lTLAovLyBXSVRIT1VUIFdBUlJBTlRJRVMgT1IgQ09ORElUSU9OUyBPRiBBTlkgS0lORCwgZWl0aGVyIGV4cHJlc3Mgb3IgaW1wbGllZC4KLy8gU2VlIHRoZSBMaWNlbnNlIGZvciB0aGUgc3BlY2lmaWMgbGFuZ3VhZ2UgZ292ZXJuaW5nIHBlcm1pc3Npb25zIGFuZAovLyBsaW1pdGF0aW9ucyB1bmRlciB0aGUgTGljZW5zZS4KCi8qKgogKiBAZmlsZW92ZXJ2aWV3IEhlbHBlcnMgZm9yIGdvb2dsZS5jb2xhYiBQeXRob24gbW9kdWxlLgogKi8KKGZ1bmN0aW9uKHNjb3BlKSB7CmZ1bmN0aW9uIHNwYW4odGV4dCwgc3R5bGVBdHRyaWJ1dGVzID0ge30pIHsKICBjb25zdCBlbGVtZW50ID0gZG9jdW1lbnQuY3JlYXRlRWxlbWVudCgnc3BhbicpOwogIGVsZW1lbnQudGV4dENvbnRlbnQgPSB0ZXh0OwogIGZvciAoY29uc3Qga2V5IG9mIE9iamVjdC5rZXlzKHN0eWxlQXR0cmlidXRlcykpIHsKICAgIGVsZW1lbnQuc3R5bGVba2V5XSA9IHN0eWxlQXR0cmlidXRlc1trZXldOwogIH0KICByZXR1cm4gZWxlbWVudDsKfQoKLy8gTWF4IG51bWJlciBvZiBieXRlcyB3aGljaCB3aWxsIGJlIHVwbG9hZGVkIGF0IGEgdGltZS4KY29uc3QgTUFYX1BBWUxPQURfU0laRSA9IDEwMCAqIDEwMjQ7CgpmdW5jdGlvbiBfdXBsb2FkRmlsZXMoaW5wdXRJZCwgb3V0cHV0SWQpIHsKICBjb25zdCBzdGVwcyA9IHVwbG9hZEZpbGVzU3RlcChpbnB1dElkLCBvdXRwdXRJZCk7CiAgY29uc3Qgb3V0cHV0RWxlbWVudCA9IGRvY3VtZW50LmdldEVsZW1lbnRCeUlkKG91dHB1dElkKTsKICAvLyBDYWNoZSBzdGVwcyBvbiB0aGUgb3V0cHV0RWxlbWVudCB0byBtYWtlIGl0IGF2YWlsYWJsZSBmb3IgdGhlIG5leHQgY2FsbAogIC8vIHRvIHVwbG9hZEZpbGVzQ29udGludWUgZnJvbSBQeXRob24uCiAgb3V0cHV0RWxlbWVudC5zdGVwcyA9IHN0ZXBzOwoKICByZXR1cm4gX3VwbG9hZEZpbGVzQ29udGludWUob3V0cHV0SWQpOwp9CgovLyBUaGlzIGlzIHJvdWdobHkgYW4gYXN5bmMgZ2VuZXJhdG9yIChub3Qgc3VwcG9ydGVkIGluIHRoZSBicm93c2VyIHlldCksCi8vIHdoZXJlIHRoZXJlIGFyZSBtdWx0aXBsZSBhc3luY2hyb25vdXMgc3RlcHMgYW5kIHRoZSBQeXRob24gc2lkZSBpcyBnb2luZwovLyB0byBwb2xsIGZvciBjb21wbGV0aW9uIG9mIGVhY2ggc3RlcC4KLy8gVGhpcyB1c2VzIGEgUHJvbWlzZSB0byBibG9jayB0aGUgcHl0aG9uIHNpZGUgb24gY29tcGxldGlvbiBvZiBlYWNoIHN0ZXAsCi8vIHRoZW4gcGFzc2VzIHRoZSByZXN1bHQgb2YgdGhlIHByZXZpb3VzIHN0ZXAgYXMgdGhlIGlucHV0IHRvIHRoZSBuZXh0IHN0ZXAuCmZ1bmN0aW9uIF91cGxvYWRGaWxlc0NvbnRpbnVlKG91dHB1dElkKSB7CiAgY29uc3Qgb3V0cHV0RWxlbWVudCA9IGRvY3VtZW50LmdldEVsZW1lbnRCeUlkKG91dHB1dElkKTsKICBjb25zdCBzdGVwcyA9IG91dHB1dEVsZW1lbnQuc3RlcHM7CgogIGNvbnN0IG5leHQgPSBzdGVwcy5uZXh0KG91dHB1dEVsZW1lbnQubGFzdFByb21pc2VWYWx1ZSk7CiAgcmV0dXJuIFByb21pc2UucmVzb2x2ZShuZXh0LnZhbHVlLnByb21pc2UpLnRoZW4oKHZhbHVlKSA9PiB7CiAgICAvLyBDYWNoZSB0aGUgbGFzdCBwcm9taXNlIHZhbHVlIHRvIG1ha2UgaXQgYXZhaWxhYmxlIHRvIHRoZSBuZXh0CiAgICAvLyBzdGVwIG9mIHRoZSBnZW5lcmF0b3IuCiAgICBvdXRwdXRFbGVtZW50Lmxhc3RQcm9taXNlVmFsdWUgPSB2YWx1ZTsKICAgIHJldHVybiBuZXh0LnZhbHVlLnJlc3BvbnNlOwogIH0pOwp9CgovKioKICogR2VuZXJhdG9yIGZ1bmN0aW9uIHdoaWNoIGlzIGNhbGxlZCBiZXR3ZWVuIGVhY2ggYXN5bmMgc3RlcCBvZiB0aGUgdXBsb2FkCiAqIHByb2Nlc3MuCiAqIEBwYXJhbSB7c3RyaW5nfSBpbnB1dElkIEVsZW1lbnQgSUQgb2YgdGhlIGlucHV0IGZpbGUgcGlja2VyIGVsZW1lbnQuCiAqIEBwYXJhbSB7c3RyaW5nfSBvdXRwdXRJZCBFbGVtZW50IElEIG9mIHRoZSBvdXRwdXQgZGlzcGxheS4KICogQHJldHVybiB7IUl0ZXJhYmxlPCFPYmplY3Q+fSBJdGVyYWJsZSBvZiBuZXh0IHN0ZXBzLgogKi8KZnVuY3Rpb24qIHVwbG9hZEZpbGVzU3RlcChpbnB1dElkLCBvdXRwdXRJZCkgewogIGNvbnN0IGlucHV0RWxlbWVudCA9IGRvY3VtZW50LmdldEVsZW1lbnRCeUlkKGlucHV0SWQpOwogIGlucHV0RWxlbWVudC5kaXNhYmxlZCA9IGZhbHNlOwoKICBjb25zdCBvdXRwdXRFbGVtZW50ID0gZG9jdW1lbnQuZ2V0RWxlbWVudEJ5SWQob3V0cHV0SWQpOwogIG91dHB1dEVsZW1lbnQuaW5uZXJIVE1MID0gJyc7CgogIGNvbnN0IHBpY2tlZFByb21pc2UgPSBuZXcgUHJvbWlzZSgocmVzb2x2ZSkgPT4gewogICAgaW5wdXRFbGVtZW50LmFkZEV2ZW50TGlzdGVuZXIoJ2NoYW5nZScsIChlKSA9PiB7CiAgICAgIHJlc29sdmUoZS50YXJnZXQuZmlsZXMpOwogICAgfSk7CiAgfSk7CgogIGNvbnN0IGNhbmNlbCA9IGRvY3VtZW50LmNyZWF0ZUVsZW1lbnQoJ2J1dHRvbicpOwogIGlucHV0RWxlbWVudC5wYXJlbnRFbGVtZW50LmFwcGVuZENoaWxkKGNhbmNlbCk7CiAgY2FuY2VsLnRleHRDb250ZW50ID0gJ0NhbmNlbCB1cGxvYWQnOwogIGNvbnN0IGNhbmNlbFByb21pc2UgPSBuZXcgUHJvbWlzZSgocmVzb2x2ZSkgPT4gewogICAgY2FuY2VsLm9uY2xpY2sgPSAoKSA9PiB7CiAgICAgIHJlc29sdmUobnVsbCk7CiAgICB9OwogIH0pOwoKICAvLyBXYWl0IGZvciB0aGUgdXNlciB0byBwaWNrIHRoZSBmaWxlcy4KICBjb25zdCBmaWxlcyA9IHlpZWxkIHsKICAgIHByb21pc2U6IFByb21pc2UucmFjZShbcGlja2VkUHJvbWlzZSwgY2FuY2VsUHJvbWlzZV0pLAogICAgcmVzcG9uc2U6IHsKICAgICAgYWN0aW9uOiAnc3RhcnRpbmcnLAogICAgfQogIH07CgogIGNhbmNlbC5yZW1vdmUoKTsKCiAgLy8gRGlzYWJsZSB0aGUgaW5wdXQgZWxlbWVudCBzaW5jZSBmdXJ0aGVyIHBpY2tzIGFyZSBub3QgYWxsb3dlZC4KICBpbnB1dEVsZW1lbnQuZGlzYWJsZWQgPSB0cnVlOwoKICBpZiAoIWZpbGVzKSB7CiAgICByZXR1cm4gewogICAgICByZXNwb25zZTogewogICAgICAgIGFjdGlvbjogJ2NvbXBsZXRlJywKICAgICAgfQogICAgfTsKICB9CgogIGZvciAoY29uc3QgZmlsZSBvZiBmaWxlcykgewogICAgY29uc3QgbGkgPSBkb2N1bWVudC5jcmVhdGVFbGVtZW50KCdsaScpOwogICAgbGkuYXBwZW5kKHNwYW4oZmlsZS5uYW1lLCB7Zm9udFdlaWdodDogJ2JvbGQnfSkpOwogICAgbGkuYXBwZW5kKHNwYW4oCiAgICAgICAgYCgke2ZpbGUudHlwZSB8fCAnbi9hJ30pIC0gJHtmaWxlLnNpemV9IGJ5dGVzLCBgICsKICAgICAgICBgbGFzdCBtb2RpZmllZDogJHsKICAgICAgICAgICAgZmlsZS5sYXN0TW9kaWZpZWREYXRlID8gZmlsZS5sYXN0TW9kaWZpZWREYXRlLnRvTG9jYWxlRGF0ZVN0cmluZygpIDoKICAgICAgICAgICAgICAgICAgICAgICAgICAgICAgICAgICAgJ24vYSd9IC0gYCkpOwogICAgY29uc3QgcGVyY2VudCA9IHNwYW4oJzAlIGRvbmUnKTsKICAgIGxpLmFwcGVuZENoaWxkKHBlcmNlbnQpOwoKICAgIG91dHB1dEVsZW1lbnQuYXBwZW5kQ2hpbGQobGkpOwoKICAgIGNvbnN0IGZpbGVEYXRhUHJvbWlzZSA9IG5ldyBQcm9taXNlKChyZXNvbHZlKSA9PiB7CiAgICAgIGNvbnN0IHJlYWRlciA9IG5ldyBGaWxlUmVhZGVyKCk7CiAgICAgIHJlYWRlci5vbmxvYWQgPSAoZSkgPT4gewogICAgICAgIHJlc29sdmUoZS50YXJnZXQucmVzdWx0KTsKICAgICAgfTsKICAgICAgcmVhZGVyLnJlYWRBc0FycmF5QnVmZmVyKGZpbGUpOwogICAgfSk7CiAgICAvLyBXYWl0IGZvciB0aGUgZGF0YSB0byBiZSByZWFkeS4KICAgIGxldCBmaWxlRGF0YSA9IHlpZWxkIHsKICAgICAgcHJvbWlzZTogZmlsZURhdGFQcm9taXNlLAogICAgICByZXNwb25zZTogewogICAgICAgIGFjdGlvbjogJ2NvbnRpbnVlJywKICAgICAgfQogICAgfTsKCiAgICAvLyBVc2UgYSBjaHVua2VkIHNlbmRpbmcgdG8gYXZvaWQgbWVzc2FnZSBzaXplIGxpbWl0cy4gU2VlIGIvNjIxMTU2NjAuCiAgICBsZXQgcG9zaXRpb24gPSAwOwogICAgZG8gewogICAgICBjb25zdCBsZW5ndGggPSBNYXRoLm1pbihmaWxlRGF0YS5ieXRlTGVuZ3RoIC0gcG9zaXRpb24sIE1BWF9QQVlMT0FEX1NJWkUpOwogICAgICBjb25zdCBjaHVuayA9IG5ldyBVaW50OEFycmF5KGZpbGVEYXRhLCBwb3NpdGlvbiwgbGVuZ3RoKTsKICAgICAgcG9zaXRpb24gKz0gbGVuZ3RoOwoKICAgICAgY29uc3QgYmFzZTY0ID0gYnRvYShTdHJpbmcuZnJvbUNoYXJDb2RlLmFwcGx5KG51bGwsIGNodW5rKSk7CiAgICAgIHlpZWxkIHsKICAgICAgICByZXNwb25zZTogewogICAgICAgICAgYWN0aW9uOiAnYXBwZW5kJywKICAgICAgICAgIGZpbGU6IGZpbGUubmFtZSwKICAgICAgICAgIGRhdGE6IGJhc2U2NCwKICAgICAgICB9LAogICAgICB9OwoKICAgICAgbGV0IHBlcmNlbnREb25lID0gZmlsZURhdGEuYnl0ZUxlbmd0aCA9PT0gMCA/CiAgICAgICAgICAxMDAgOgogICAgICAgICAgTWF0aC5yb3VuZCgocG9zaXRpb24gLyBmaWxlRGF0YS5ieXRlTGVuZ3RoKSAqIDEwMCk7CiAgICAgIHBlcmNlbnQudGV4dENvbnRlbnQgPSBgJHtwZXJjZW50RG9uZX0lIGRvbmVgOwoKICAgIH0gd2hpbGUgKHBvc2l0aW9uIDwgZmlsZURhdGEuYnl0ZUxlbmd0aCk7CiAgfQoKICAvLyBBbGwgZG9uZS4KICB5aWVsZCB7CiAgICByZXNwb25zZTogewogICAgICBhY3Rpb246ICdjb21wbGV0ZScsCiAgICB9CiAgfTsKfQoKc2NvcGUuZ29vZ2xlID0gc2NvcGUuZ29vZ2xlIHx8IHt9OwpzY29wZS5nb29nbGUuY29sYWIgPSBzY29wZS5nb29nbGUuY29sYWIgfHwge307CnNjb3BlLmdvb2dsZS5jb2xhYi5fZmlsZXMgPSB7CiAgX3VwbG9hZEZpbGVzLAogIF91cGxvYWRGaWxlc0NvbnRpbnVlLAp9Owp9KShzZWxmKTsK",
              "ok": true,
              "headers": [
                [
                  "content-type",
                  "application/javascript"
                ]
              ],
              "status": 200,
              "status_text": ""
            }
          },
          "base_uri": "https://localhost:8080/",
          "height": 109
        },
        "id": "pHZ3KMVyKlI7",
        "outputId": "e891f285-96d6-4c18-904c-2616f4bbccee"
      },
      "source": [
        "from google.colab import files\n",
        "\n",
        "files.upload()"
      ],
      "execution_count": 2,
      "outputs": [
        {
          "output_type": "display_data",
          "data": {
            "text/html": [
              "\n",
              "     <input type=\"file\" id=\"files-16ee4b25-8cb9-42de-bea2-4de39162314a\" name=\"files[]\" multiple disabled\n",
              "        style=\"border:none\" />\n",
              "     <output id=\"result-16ee4b25-8cb9-42de-bea2-4de39162314a\">\n",
              "      Upload widget is only available when the cell has been executed in the\n",
              "      current browser session. Please rerun this cell to enable.\n",
              "      </output>\n",
              "      <script src=\"/nbextensions/google.colab/files.js\"></script> "
            ],
            "text/plain": [
              "<IPython.core.display.HTML object>"
            ]
          },
          "metadata": {
            "tags": []
          }
        },
        {
          "output_type": "stream",
          "text": [
            "Saving kaggle.json to kaggle.json\n"
          ],
          "name": "stdout"
        },
        {
          "output_type": "execute_result",
          "data": {
            "text/plain": [
              "{'kaggle.json': b'{\"username\":\"kynuuu\",\"key\":\"bb4723de81bdc3c6bbddaf30ec71d7c8\"}'}"
            ]
          },
          "metadata": {
            "tags": []
          },
          "execution_count": 2
        }
      ]
    },
    {
      "cell_type": "code",
      "metadata": {
        "id": "bC45M6mwKok9"
      },
      "source": [
        "! mkdir ~/.kaggle\n",
        "! cp kaggle.json ~/.kaggle/\n",
        "! chmod 600 ~/.kaggle/kaggle.json"
      ],
      "execution_count": 3,
      "outputs": []
    },
    {
      "cell_type": "markdown",
      "metadata": {
        "id": "GduXpKl0XgMz"
      },
      "source": [
        "# Mengunduh Dataset\n",
        "\n",
        "Dataset yang akan digunakan pada pemodelan machine learning dengan data time series ini adalah Time Series Forecasting from Gold Price. Dataset ini terdiri dari ~10787 data perubahan harga emas dari awal tahun 1970 hingga pertengahan Maret 2020. Adapun tipe dari dataset time series ini adalah _univariat_ karena hanya memiliki 1 nilai pada setiap jangka waktu tertentu."
      ]
    },
    {
      "cell_type": "code",
      "metadata": {
        "colab": {
          "base_uri": "https://localhost:8080/"
        },
        "id": "TkgrMMowK4P5",
        "outputId": "d4e6ad47-ebed-4ebe-f1df-35d595447aa9"
      },
      "source": [
        "!kaggle datasets download -d arashnic/learn-time-series-forecasting-from-gold-price"
      ],
      "execution_count": 4,
      "outputs": [
        {
          "output_type": "stream",
          "text": [
            "Downloading learn-time-series-forecasting-from-gold-price.zip to /content\n",
            "\r  0% 0.00/48.6k [00:00<?, ?B/s]\n",
            "\r100% 48.6k/48.6k [00:00<00:00, 18.3MB/s]\n"
          ],
          "name": "stdout"
        }
      ]
    },
    {
      "cell_type": "markdown",
      "metadata": {
        "id": "_I1GNjhXYwy9"
      },
      "source": [
        "# Mengekstrak file zip\n",
        "\n",
        "Mengekstrak dataset yang telah diunduh sebelumnya."
      ]
    },
    {
      "cell_type": "code",
      "metadata": {
        "id": "HmpXW1PHK9X_"
      },
      "source": [
        "import os\n",
        "import zipfile\n",
        "\n",
        "local_zip = '/content/learn-time-series-forecasting-from-gold-price.zip'\n",
        "zip_ref = zipfile.ZipFile(local_zip, 'r')\n",
        "zip_ref.extractall('/content/data-time-series')\n",
        "zip_ref.close()"
      ],
      "execution_count": 25,
      "outputs": []
    },
    {
      "cell_type": "code",
      "metadata": {
        "colab": {
          "base_uri": "https://localhost:8080/"
        },
        "id": "9CRUjsgKN-m-",
        "outputId": "b5a71d03-b028-4d24-9fbf-e48ab89eca9b"
      },
      "source": [
        "base_dir = ('/content/data-time-series')\n",
        "os.listdir(base_dir)"
      ],
      "execution_count": 27,
      "outputs": [
        {
          "output_type": "execute_result",
          "data": {
            "text/plain": [
              "['gold_price_data.csv']"
            ]
          },
          "metadata": {
            "tags": []
          },
          "execution_count": 27
        }
      ]
    },
    {
      "cell_type": "markdown",
      "metadata": {
        "id": "WdwIXtswZMHv"
      },
      "source": [
        "# Import Modul\n",
        "\n",
        "Pada tahap ini akan di import beberapa modul yang diperlukan dalam pemodelan."
      ]
    },
    {
      "cell_type": "code",
      "metadata": {
        "id": "DZtUQI-McveX"
      },
      "source": [
        "import numpy as np\n",
        "import pandas as pd\n",
        "import tensorflow as tf\n",
        "import matplotlib.pyplot as plt\n",
        "from dateutil.parser import parse\n",
        "from keras.layers import Dense, LSTM\n",
        "from sklearn.model_selection import train_test_split\n"
      ],
      "execution_count": 28,
      "outputs": []
    },
    {
      "cell_type": "markdown",
      "metadata": {
        "id": "aCzpg-jVZJmk"
      },
      "source": [
        "# Load Dataset\n",
        "\n",
        "Dataset yang telah diunduh dan diekstrak selanjutnya di load ke dalam bentuk dataframe agar lebih mudah di proses."
      ]
    },
    {
      "cell_type": "code",
      "metadata": {
        "colab": {
          "base_uri": "https://localhost:8080/",
          "height": 204
        },
        "id": "ua3L90MQOFKh",
        "outputId": "813fc307-fb44-4eec-ccaa-1a76f74be7e5"
      },
      "source": [
        "path = '/content/data-time-series/gold_price_data.csv'\n",
        "df = pd.read_csv(path, parse_dates=['Date'])\n",
        "df.head()"
      ],
      "execution_count": 29,
      "outputs": [
        {
          "output_type": "execute_result",
          "data": {
            "text/html": [
              "<div>\n",
              "<style scoped>\n",
              "    .dataframe tbody tr th:only-of-type {\n",
              "        vertical-align: middle;\n",
              "    }\n",
              "\n",
              "    .dataframe tbody tr th {\n",
              "        vertical-align: top;\n",
              "    }\n",
              "\n",
              "    .dataframe thead th {\n",
              "        text-align: right;\n",
              "    }\n",
              "</style>\n",
              "<table border=\"1\" class=\"dataframe\">\n",
              "  <thead>\n",
              "    <tr style=\"text-align: right;\">\n",
              "      <th></th>\n",
              "      <th>Date</th>\n",
              "      <th>Value</th>\n",
              "    </tr>\n",
              "  </thead>\n",
              "  <tbody>\n",
              "    <tr>\n",
              "      <th>0</th>\n",
              "      <td>1970-01-01</td>\n",
              "      <td>35.2</td>\n",
              "    </tr>\n",
              "    <tr>\n",
              "      <th>1</th>\n",
              "      <td>1970-04-01</td>\n",
              "      <td>35.1</td>\n",
              "    </tr>\n",
              "    <tr>\n",
              "      <th>2</th>\n",
              "      <td>1970-07-01</td>\n",
              "      <td>35.4</td>\n",
              "    </tr>\n",
              "    <tr>\n",
              "      <th>3</th>\n",
              "      <td>1970-10-01</td>\n",
              "      <td>36.2</td>\n",
              "    </tr>\n",
              "    <tr>\n",
              "      <th>4</th>\n",
              "      <td>1971-01-01</td>\n",
              "      <td>37.4</td>\n",
              "    </tr>\n",
              "  </tbody>\n",
              "</table>\n",
              "</div>"
            ],
            "text/plain": [
              "        Date  Value\n",
              "0 1970-01-01   35.2\n",
              "1 1970-04-01   35.1\n",
              "2 1970-07-01   35.4\n",
              "3 1970-10-01   36.2\n",
              "4 1971-01-01   37.4"
            ]
          },
          "metadata": {
            "tags": []
          },
          "execution_count": 29
        }
      ]
    },
    {
      "cell_type": "code",
      "metadata": {
        "colab": {
          "base_uri": "https://localhost:8080/"
        },
        "id": "im8W6wENVa0L",
        "outputId": "9698fe1a-eeda-4649-9dad-350644542343"
      },
      "source": [
        "df.info()"
      ],
      "execution_count": 30,
      "outputs": [
        {
          "output_type": "stream",
          "text": [
            "<class 'pandas.core.frame.DataFrame'>\n",
            "RangeIndex: 10787 entries, 0 to 10786\n",
            "Data columns (total 2 columns):\n",
            " #   Column  Non-Null Count  Dtype         \n",
            "---  ------  --------------  -----         \n",
            " 0   Date    10787 non-null  datetime64[ns]\n",
            " 1   Value   10787 non-null  float64       \n",
            "dtypes: datetime64[ns](1), float64(1)\n",
            "memory usage: 168.7 KB\n"
          ],
          "name": "stdout"
        }
      ]
    },
    {
      "cell_type": "markdown",
      "metadata": {
        "id": "LVhZQJJLZkLw"
      },
      "source": [
        "# Normalisasi Data\n",
        "\n",
        "Normalisasi data dilakukan agar variabel yang akan dimodelkan memiliki rentang nilai yang sama. Pada pemodelan ini akan dilakukan normalisasi data menggunakan metode Min-Max dimana setiap nilai pada sebuah fitur dikurangi dengan nilai minimum fitur tersebut, kemudian dibagi dengan rentang nilai atau nilai maksimum dikurangi nilai minimum dari fitur tersebut. Untuk mengimplementasikan metode ini pada Python, kita dapat menggunakan fungsi MinMaxScaler dari library Scikit-learn seperti kode di bawah ini."
      ]
    },
    {
      "cell_type": "code",
      "metadata": {
        "colab": {
          "base_uri": "https://localhost:8080/",
          "height": 419
        },
        "id": "1hSLYPPlT6Zm",
        "outputId": "109c4bea-4c83-4496-e1b1-90bc5ebc13c4"
      },
      "source": [
        "from sklearn.preprocessing import MinMaxScaler\n",
        "\n",
        "scaler = MinMaxScaler(feature_range=(0,1))\n",
        "normalization = scaler.fit_transform(df['Value'].values.reshape(-1,1))\n",
        "df['Value'] = normalization\n",
        "df"
      ],
      "execution_count": 31,
      "outputs": [
        {
          "output_type": "execute_result",
          "data": {
            "text/html": [
              "<div>\n",
              "<style scoped>\n",
              "    .dataframe tbody tr th:only-of-type {\n",
              "        vertical-align: middle;\n",
              "    }\n",
              "\n",
              "    .dataframe tbody tr th {\n",
              "        vertical-align: top;\n",
              "    }\n",
              "\n",
              "    .dataframe thead th {\n",
              "        text-align: right;\n",
              "    }\n",
              "</style>\n",
              "<table border=\"1\" class=\"dataframe\">\n",
              "  <thead>\n",
              "    <tr style=\"text-align: right;\">\n",
              "      <th></th>\n",
              "      <th>Date</th>\n",
              "      <th>Value</th>\n",
              "    </tr>\n",
              "  </thead>\n",
              "  <tbody>\n",
              "    <tr>\n",
              "      <th>0</th>\n",
              "      <td>1970-01-01</td>\n",
              "      <td>0.000054</td>\n",
              "    </tr>\n",
              "    <tr>\n",
              "      <th>1</th>\n",
              "      <td>1970-04-01</td>\n",
              "      <td>0.000000</td>\n",
              "    </tr>\n",
              "    <tr>\n",
              "      <th>2</th>\n",
              "      <td>1970-07-01</td>\n",
              "      <td>0.000161</td>\n",
              "    </tr>\n",
              "    <tr>\n",
              "      <th>3</th>\n",
              "      <td>1970-10-01</td>\n",
              "      <td>0.000591</td>\n",
              "    </tr>\n",
              "    <tr>\n",
              "      <th>4</th>\n",
              "      <td>1971-01-01</td>\n",
              "      <td>0.001237</td>\n",
              "    </tr>\n",
              "    <tr>\n",
              "      <th>...</th>\n",
              "      <td>...</td>\n",
              "      <td>...</td>\n",
              "    </tr>\n",
              "    <tr>\n",
              "      <th>10782</th>\n",
              "      <td>2020-03-09</td>\n",
              "      <td>0.880370</td>\n",
              "    </tr>\n",
              "    <tr>\n",
              "      <th>10783</th>\n",
              "      <td>2020-03-10</td>\n",
              "      <td>0.871337</td>\n",
              "    </tr>\n",
              "    <tr>\n",
              "      <th>10784</th>\n",
              "      <td>2020-03-11</td>\n",
              "      <td>0.870289</td>\n",
              "    </tr>\n",
              "    <tr>\n",
              "      <th>10785</th>\n",
              "      <td>2020-03-12</td>\n",
              "      <td>0.825636</td>\n",
              "    </tr>\n",
              "    <tr>\n",
              "      <th>10786</th>\n",
              "      <td>2020-03-13</td>\n",
              "      <td>0.821388</td>\n",
              "    </tr>\n",
              "  </tbody>\n",
              "</table>\n",
              "<p>10787 rows × 2 columns</p>\n",
              "</div>"
            ],
            "text/plain": [
              "            Date     Value\n",
              "0     1970-01-01  0.000054\n",
              "1     1970-04-01  0.000000\n",
              "2     1970-07-01  0.000161\n",
              "3     1970-10-01  0.000591\n",
              "4     1971-01-01  0.001237\n",
              "...          ...       ...\n",
              "10782 2020-03-09  0.880370\n",
              "10783 2020-03-10  0.871337\n",
              "10784 2020-03-11  0.870289\n",
              "10785 2020-03-12  0.825636\n",
              "10786 2020-03-13  0.821388\n",
              "\n",
              "[10787 rows x 2 columns]"
            ]
          },
          "metadata": {
            "tags": []
          },
          "execution_count": 31
        }
      ]
    },
    {
      "cell_type": "markdown",
      "metadata": {
        "id": "yEc8jrhnbXQd"
      },
      "source": [
        "Dengan menggunakan metode Min-Max akan menghasilkan nilai baru hasil normalisasi yang berkisar antara 0 sampai 1."
      ]
    },
    {
      "cell_type": "code",
      "metadata": {
        "colab": {
          "base_uri": "https://localhost:8080/"
        },
        "id": "nQbxVl2JKsMg",
        "outputId": "6042f138-e569-4a30-d5be-0bdfa1063c94"
      },
      "source": [
        "print(df.max())\n",
        "print(df.min())"
      ],
      "execution_count": 32,
      "outputs": [
        {
          "output_type": "stream",
          "text": [
            "Date     2020-03-13 00:00:00\n",
            "Value                      1\n",
            "dtype: object\n",
            "Date     1970-01-01 00:00:00\n",
            "Value                      0\n",
            "dtype: object\n"
          ],
          "name": "stdout"
        }
      ]
    },
    {
      "cell_type": "markdown",
      "metadata": {
        "id": "xzakXDzpcLmU"
      },
      "source": [
        "# Plot Data\n",
        "\n",
        "Pada tahap ini data akan diplot dengan menggunakan fungsi plot dari library matplotlib. Seperti yang terlihat di bawah, data-data pada dataset forecasting gold price ini memiliki pola berupa tren menaik-menurun."
      ]
    },
    {
      "cell_type": "code",
      "metadata": {
        "colab": {
          "base_uri": "https://localhost:8080/",
          "height": 267
        },
        "id": "xwuQ9LUgdhdY",
        "outputId": "e8fa2a8c-d5f8-4b21-bcc6-3c4e90083cb2"
      },
      "source": [
        "dates = df['Date'].values\n",
        "values = df['Value'].values\n",
        "\n",
        "plt.figure(figsize=(15,5))\n",
        "plt.plot(dates, values)\n",
        "plt.title('Gold Price', fontsize=20)"
      ],
      "execution_count": 33,
      "outputs": [
        {
          "output_type": "execute_result",
          "data": {
            "text/plain": [
              "Text(0.5, 1.0, 'Gold Price')"
            ]
          },
          "metadata": {
            "tags": []
          },
          "execution_count": 33
        },
        {
          "output_type": "display_data",
          "data": {
            "image/png": "[encoded data removed]",
            "text/plain": [
              "<Figure size 1080x360 with 1 Axes>"
            ]
          },
          "metadata": {
            "tags": [],
            "needs_background": "light"
          }
        }
      ]
    },
    {
      "cell_type": "markdown",
      "metadata": {
        "id": "BZBzAEGGdQjJ"
      },
      "source": [
        "# Split Data\n",
        "\n",
        "Dataset akan displit menjadi data training dan data validation dengan rasio 80% untuk data training dan 20% untuk data validation. Pada data time series, split data tidak dapat dilakukan secara random."
      ]
    },
    {
      "cell_type": "code",
      "metadata": {
        "id": "yOcl1U5cgB2x"
      },
      "source": [
        "from sklearn.model_selection import train_test_split\n",
        "\n",
        "value_train, value_test, date_train, date_test = train_test_split(values, dates, test_size = 0.2, shuffle=False)"
      ],
      "execution_count": 34,
      "outputs": []
    },
    {
      "cell_type": "code",
      "metadata": {
        "colab": {
          "base_uri": "https://localhost:8080/"
        },
        "id": "TjbjMkx1msSr",
        "outputId": "485a6171-8a9e-4276-8cac-285d84e3d446"
      },
      "source": [
        "date_train"
      ],
      "execution_count": 35,
      "outputs": [
        {
          "output_type": "execute_result",
          "data": {
            "text/plain": [
              "array(['1970-01-01T00:00:00.000000000', '1970-04-01T00:00:00.000000000',\n",
              "       '1970-07-01T00:00:00.000000000', ...,\n",
              "       '2011-12-02T00:00:00.000000000', '2011-12-05T00:00:00.000000000',\n",
              "       '2011-12-06T00:00:00.000000000'], dtype='datetime64[ns]')"
            ]
          },
          "metadata": {
            "tags": []
          },
          "execution_count": 35
        }
      ]
    },
    {
      "cell_type": "code",
      "metadata": {
        "colab": {
          "base_uri": "https://localhost:8080/"
        },
        "id": "-Xr1z_6bLR5L",
        "outputId": "4fe17609-6155-4588-cd18-ebcfe65df647"
      },
      "source": [
        "date_test"
      ],
      "execution_count": 36,
      "outputs": [
        {
          "output_type": "execute_result",
          "data": {
            "text/plain": [
              "array(['2011-12-07T00:00:00.000000000', '2011-12-08T00:00:00.000000000',\n",
              "       '2011-12-09T00:00:00.000000000', ...,\n",
              "       '2020-03-11T00:00:00.000000000', '2020-03-12T00:00:00.000000000',\n",
              "       '2020-03-13T00:00:00.000000000'], dtype='datetime64[ns]')"
            ]
          },
          "metadata": {
            "tags": []
          },
          "execution_count": 36
        }
      ]
    },
    {
      "cell_type": "code",
      "metadata": {
        "colab": {
          "base_uri": "https://localhost:8080/"
        },
        "id": "mazRPzt6x_Zo",
        "outputId": "3990d563-9e31-444a-a9a0-5e6fb2185174"
      },
      "source": [
        "len(value_train)"
      ],
      "execution_count": 37,
      "outputs": [
        {
          "output_type": "execute_result",
          "data": {
            "text/plain": [
              "8629"
            ]
          },
          "metadata": {
            "tags": []
          },
          "execution_count": 37
        }
      ]
    },
    {
      "cell_type": "code",
      "metadata": {
        "colab": {
          "base_uri": "https://localhost:8080/"
        },
        "id": "hXzRaBi-yvY1",
        "outputId": "df120d7c-aa6d-4856-8786-4c92665455ad"
      },
      "source": [
        "len(value_test)"
      ],
      "execution_count": 38,
      "outputs": [
        {
          "output_type": "execute_result",
          "data": {
            "text/plain": [
              "2158"
            ]
          },
          "metadata": {
            "tags": []
          },
          "execution_count": 38
        }
      ]
    },
    {
      "cell_type": "markdown",
      "metadata": {
        "id": "EOR2I9skeCcX"
      },
      "source": [
        "Fungsi di bawah ini digunakan untuk merubah format data yang kita miliki agar dapat diterima oleh model. Fungsi di bawah menerima sebuah series/atribut yang telah dikonversi menjadi tipe numpy, lalu mengembalikan label dan atribut dari dataset dalam bentuk batch."
      ]
    },
    {
      "cell_type": "code",
      "metadata": {
        "id": "1ik4T_LbeaOs"
      },
      "source": [
        "def windowed_dataset(series, window_size, batch_size, shuffle_buffer):\n",
        "  series = tf.expand_dims(series, axis=-1)\n",
        "  ds = tf.data.Dataset.from_tensor_slices(series)\n",
        "  ds = ds.window(window_size + 1, shift=1, drop_remainder=True)\n",
        "  ds = ds.flat_map(lambda w: w.batch(window_size + 1))\n",
        "  ds = ds.shuffle(shuffle_buffer)\n",
        "  ds = ds.map(lambda w: (w[:-1], w[-1:]))\n",
        "  return ds.batch(batch_size).prefetch(1)"
      ],
      "execution_count": 39,
      "outputs": []
    },
    {
      "cell_type": "markdown",
      "metadata": {
        "id": "OvXCK2zpef_f"
      },
      "source": [
        "Untuk arsitektur model, pada pemodelan ini akan digunakan 2 buah layer LSTM."
      ]
    },
    {
      "cell_type": "code",
      "metadata": {
        "id": "C8ir1wr0dsMW"
      },
      "source": [
        "train_set = windowed_dataset(value_train, window_size=60, batch_size=100, shuffle_buffer=1000)\n",
        "test_set = windowed_dataset(value_test, window_size=60, batch_size=100, shuffle_buffer=1000)\n",
        "\n",
        "model = tf.keras.models.Sequential([\n",
        "    tf.keras.layers.LSTM(60, return_sequences=True),\n",
        "    tf.keras.layers.LSTM(60),\n",
        "    tf.keras.layers.Dense(128, activation='relu'),\n",
        "    tf.keras.layers.Dense(64, activation='relu'),\n",
        "    tf.keras.layers.Dense(1),\n",
        "])"
      ],
      "execution_count": 40,
      "outputs": []
    },
    {
      "cell_type": "markdown",
      "metadata": {
        "id": "uYdMBYqZesHC"
      },
      "source": [
        "Kemudian pada optimizer akan digunakan parameter learning rate dan momentum sebagai berikut. Adapun loss function yang digunakan pada pemodelan ini adalah function yang umum digunakan pada kasus time series yaitu Huber dan metrik yang digunakan untuk mengevaluasi model adalah MAE."
      ]
    },
    {
      "cell_type": "code",
      "metadata": {
        "id": "YsqOD0_RNOue"
      },
      "source": [
        "optimizer = tf.keras.optimizers.SGD(learning_rate=1.0000e-04, momentum=0.9)\n",
        "\n",
        "model.compile(\n",
        "    loss = tf.keras.losses.Huber(),\n",
        "    optimizer = optimizer,\n",
        "    metrics = ['mae']\n",
        ")"
      ],
      "execution_count": 41,
      "outputs": []
    },
    {
      "cell_type": "markdown",
      "metadata": {
        "id": "8NFM8kpNfKZx"
      },
      "source": [
        "Pada pemodelan ini digunakan fungsi callback untuk memberi tahu model agar berhenti melakukan pelatihan ketika MAE dan Val_MAE kurang dari 10%."
      ]
    },
    {
      "cell_type": "code",
      "metadata": {
        "id": "gZhkyeHfO916"
      },
      "source": [
        "class myCallback(tf.keras.callbacks.Callback):\n",
        "  def on_epoch_end(self, epoch, logs={}):\n",
        "    if (logs.get('mae') < 0.1 and logs.get('val_mae') < 0.1):\n",
        "      self.model.stop_training = True\n",
        "    \n",
        "callbacks = myCallback()"
      ],
      "execution_count": 42,
      "outputs": []
    },
    {
      "cell_type": "markdown",
      "metadata": {
        "id": "NEjthZbXfYJM"
      },
      "source": [
        "Terlihat di bawah ini model berhasil menghentikan pelatihan ketika MAE dan val_mae telah kurang dari 10% pada epoch ke 236 dari 300. Artinya kita telah menghemat waktu eksekusi 64 epoch."
      ]
    },
    {
      "cell_type": "code",
      "metadata": {
        "colab": {
          "base_uri": "https://localhost:8080/"
        },
        "id": "YfMhIru_PKSU",
        "outputId": "77c4df83-7487-414c-8495-76faa5d78893"
      },
      "source": [
        "history = model.fit(\n",
        "    train_set,\n",
        "    validation_data = test_set,\n",
        "    epochs = 300,\n",
        "    verbose = 2,\n",
        "    callbacks = [callbacks])"
      ],
      "execution_count": 43,
      "outputs": [
        {
          "output_type": "stream",
          "text": [
            "Epoch 1/300\n",
            "86/86 - 15s - loss: 0.0382 - mae: 0.2318 - val_loss: 0.2325 - val_mae: 0.6760\n",
            "Epoch 2/300\n",
            "86/86 - 10s - loss: 0.0295 - mae: 0.1912 - val_loss: 0.2063 - val_mae: 0.6360\n",
            "Epoch 3/300\n",
            "86/86 - 10s - loss: 0.0239 - mae: 0.1605 - val_loss: 0.1859 - val_mae: 0.6030\n",
            "Epoch 4/300\n",
            "86/86 - 10s - loss: 0.0200 - mae: 0.1351 - val_loss: 0.1698 - val_mae: 0.5758\n",
            "Epoch 5/300\n",
            "86/86 - 10s - loss: 0.0172 - mae: 0.1138 - val_loss: 0.1566 - val_mae: 0.5526\n",
            "Epoch 6/300\n",
            "86/86 - 10s - loss: 0.0152 - mae: 0.0983 - val_loss: 0.1459 - val_mae: 0.5329\n",
            "Epoch 7/300\n",
            "86/86 - 10s - loss: 0.0138 - mae: 0.0878 - val_loss: 0.1370 - val_mae: 0.5159\n",
            "Epoch 8/300\n",
            "86/86 - 10s - loss: 0.0128 - mae: 0.0812 - val_loss: 0.1296 - val_mae: 0.5016\n",
            "Epoch 9/300\n",
            "86/86 - 10s - loss: 0.0120 - mae: 0.0778 - val_loss: 0.1236 - val_mae: 0.4894\n",
            "Epoch 10/300\n",
            "86/86 - 10s - loss: 0.0114 - mae: 0.0767 - val_loss: 0.1184 - val_mae: 0.4788\n",
            "Epoch 11/300\n",
            "86/86 - 10s - loss: 0.0110 - mae: 0.0772 - val_loss: 0.1141 - val_mae: 0.4697\n",
            "Epoch 12/300\n",
            "86/86 - 10s - loss: 0.0107 - mae: 0.0781 - val_loss: 0.1103 - val_mae: 0.4617\n",
            "Epoch 13/300\n",
            "86/86 - 10s - loss: 0.0104 - mae: 0.0791 - val_loss: 0.1071 - val_mae: 0.4546\n",
            "Epoch 14/300\n",
            "86/86 - 10s - loss: 0.0102 - mae: 0.0802 - val_loss: 0.1042 - val_mae: 0.4482\n",
            "Epoch 15/300\n",
            "86/86 - 10s - loss: 0.0100 - mae: 0.0811 - val_loss: 0.1017 - val_mae: 0.4428\n",
            "Epoch 16/300\n",
            "86/86 - 10s - loss: 0.0099 - mae: 0.0820 - val_loss: 0.0995 - val_mae: 0.4376\n",
            "Epoch 17/300\n",
            "86/86 - 10s - loss: 0.0097 - mae: 0.0828 - val_loss: 0.0975 - val_mae: 0.4332\n",
            "Epoch 18/300\n",
            "86/86 - 10s - loss: 0.0096 - mae: 0.0834 - val_loss: 0.0958 - val_mae: 0.4294\n",
            "Epoch 19/300\n",
            "86/86 - 10s - loss: 0.0095 - mae: 0.0840 - val_loss: 0.0943 - val_mae: 0.4257\n",
            "Epoch 20/300\n",
            "86/86 - 10s - loss: 0.0095 - mae: 0.0844 - val_loss: 0.0929 - val_mae: 0.4225\n",
            "Epoch 21/300\n",
            "86/86 - 10s - loss: 0.0094 - mae: 0.0847 - val_loss: 0.0916 - val_mae: 0.4195\n",
            "Epoch 22/300\n",
            "86/86 - 10s - loss: 0.0093 - mae: 0.0849 - val_loss: 0.0904 - val_mae: 0.4168\n",
            "Epoch 23/300\n",
            "86/86 - 10s - loss: 0.0092 - mae: 0.0848 - val_loss: 0.0895 - val_mae: 0.4145\n",
            "Epoch 24/300\n",
            "86/86 - 10s - loss: 0.0091 - mae: 0.0847 - val_loss: 0.0885 - val_mae: 0.4123\n",
            "Epoch 25/300\n",
            "86/86 - 10s - loss: 0.0090 - mae: 0.0847 - val_loss: 0.0876 - val_mae: 0.4101\n",
            "Epoch 26/300\n",
            "86/86 - 10s - loss: 0.0090 - mae: 0.0847 - val_loss: 0.0867 - val_mae: 0.4081\n",
            "Epoch 27/300\n",
            "86/86 - 10s - loss: 0.0089 - mae: 0.0846 - val_loss: 0.0859 - val_mae: 0.4062\n",
            "Epoch 28/300\n",
            "86/86 - 10s - loss: 0.0089 - mae: 0.0846 - val_loss: 0.0852 - val_mae: 0.4044\n",
            "Epoch 29/300\n",
            "86/86 - 10s - loss: 0.0088 - mae: 0.0846 - val_loss: 0.0845 - val_mae: 0.4027\n",
            "Epoch 30/300\n",
            "86/86 - 10s - loss: 0.0088 - mae: 0.0846 - val_loss: 0.0838 - val_mae: 0.4010\n",
            "Epoch 31/300\n",
            "86/86 - 10s - loss: 0.0087 - mae: 0.0846 - val_loss: 0.0831 - val_mae: 0.3995\n",
            "Epoch 32/300\n",
            "86/86 - 10s - loss: 0.0087 - mae: 0.0846 - val_loss: 0.0825 - val_mae: 0.3980\n",
            "Epoch 33/300\n",
            "86/86 - 10s - loss: 0.0086 - mae: 0.0845 - val_loss: 0.0819 - val_mae: 0.3965\n",
            "Epoch 34/300\n",
            "86/86 - 10s - loss: 0.0086 - mae: 0.0844 - val_loss: 0.0813 - val_mae: 0.3951\n",
            "Epoch 35/300\n",
            "86/86 - 10s - loss: 0.0085 - mae: 0.0843 - val_loss: 0.0808 - val_mae: 0.3938\n",
            "Epoch 36/300\n",
            "86/86 - 10s - loss: 0.0085 - mae: 0.0842 - val_loss: 0.0802 - val_mae: 0.3924\n",
            "Epoch 37/300\n",
            "86/86 - 10s - loss: 0.0084 - mae: 0.0841 - val_loss: 0.0798 - val_mae: 0.3912\n",
            "Epoch 38/300\n",
            "86/86 - 10s - loss: 0.0084 - mae: 0.0840 - val_loss: 0.0793 - val_mae: 0.3899\n",
            "Epoch 39/300\n",
            "86/86 - 10s - loss: 0.0084 - mae: 0.0839 - val_loss: 0.0788 - val_mae: 0.3887\n",
            "Epoch 40/300\n",
            "86/86 - 10s - loss: 0.0083 - mae: 0.0838 - val_loss: 0.0783 - val_mae: 0.3875\n",
            "Epoch 41/300\n",
            "86/86 - 10s - loss: 0.0083 - mae: 0.0837 - val_loss: 0.0779 - val_mae: 0.3865\n",
            "Epoch 42/300\n",
            "86/86 - 10s - loss: 0.0082 - mae: 0.0836 - val_loss: 0.0774 - val_mae: 0.3854\n",
            "Epoch 43/300\n",
            "86/86 - 10s - loss: 0.0082 - mae: 0.0836 - val_loss: 0.0770 - val_mae: 0.3842\n",
            "Epoch 44/300\n",
            "86/86 - 10s - loss: 0.0082 - mae: 0.0835 - val_loss: 0.0765 - val_mae: 0.3831\n",
            "Epoch 45/300\n",
            "86/86 - 10s - loss: 0.0081 - mae: 0.0833 - val_loss: 0.0761 - val_mae: 0.3820\n",
            "Epoch 46/300\n",
            "86/86 - 10s - loss: 0.0081 - mae: 0.0832 - val_loss: 0.0757 - val_mae: 0.3812\n",
            "Epoch 47/300\n",
            "86/86 - 10s - loss: 0.0081 - mae: 0.0831 - val_loss: 0.0753 - val_mae: 0.3800\n",
            "Epoch 48/300\n",
            "86/86 - 10s - loss: 0.0080 - mae: 0.0829 - val_loss: 0.0749 - val_mae: 0.3791\n",
            "Epoch 49/300\n",
            "86/86 - 10s - loss: 0.0080 - mae: 0.0827 - val_loss: 0.0745 - val_mae: 0.3780\n",
            "Epoch 50/300\n",
            "86/86 - 10s - loss: 0.0079 - mae: 0.0825 - val_loss: 0.0741 - val_mae: 0.3770\n",
            "Epoch 51/300\n",
            "86/86 - 10s - loss: 0.0079 - mae: 0.0824 - val_loss: 0.0737 - val_mae: 0.3760\n",
            "Epoch 52/300\n",
            "86/86 - 10s - loss: 0.0079 - mae: 0.0822 - val_loss: 0.0734 - val_mae: 0.3751\n",
            "Epoch 53/300\n",
            "86/86 - 10s - loss: 0.0078 - mae: 0.0821 - val_loss: 0.0730 - val_mae: 0.3741\n",
            "Epoch 54/300\n",
            "86/86 - 10s - loss: 0.0078 - mae: 0.0819 - val_loss: 0.0726 - val_mae: 0.3732\n",
            "Epoch 55/300\n",
            "86/86 - 10s - loss: 0.0078 - mae: 0.0818 - val_loss: 0.0722 - val_mae: 0.3721\n",
            "Epoch 56/300\n",
            "86/86 - 10s - loss: 0.0077 - mae: 0.0816 - val_loss: 0.0718 - val_mae: 0.3711\n",
            "Epoch 57/300\n",
            "86/86 - 10s - loss: 0.0077 - mae: 0.0813 - val_loss: 0.0715 - val_mae: 0.3702\n",
            "Epoch 58/300\n",
            "86/86 - 10s - loss: 0.0077 - mae: 0.0811 - val_loss: 0.0711 - val_mae: 0.3692\n",
            "Epoch 59/300\n",
            "86/86 - 10s - loss: 0.0076 - mae: 0.0809 - val_loss: 0.0708 - val_mae: 0.3684\n",
            "Epoch 60/300\n",
            "86/86 - 10s - loss: 0.0076 - mae: 0.0806 - val_loss: 0.0704 - val_mae: 0.3674\n",
            "Epoch 61/300\n",
            "86/86 - 10s - loss: 0.0075 - mae: 0.0803 - val_loss: 0.0700 - val_mae: 0.3663\n",
            "Epoch 62/300\n",
            "86/86 - 10s - loss: 0.0075 - mae: 0.0798 - val_loss: 0.0697 - val_mae: 0.3654\n",
            "Epoch 63/300\n",
            "86/86 - 10s - loss: 0.0074 - mae: 0.0793 - val_loss: 0.0692 - val_mae: 0.3643\n",
            "Epoch 64/300\n",
            "86/86 - 10s - loss: 0.0074 - mae: 0.0789 - val_loss: 0.0688 - val_mae: 0.3631\n",
            "Epoch 65/300\n",
            "86/86 - 10s - loss: 0.0073 - mae: 0.0785 - val_loss: 0.0684 - val_mae: 0.3621\n",
            "Epoch 66/300\n",
            "86/86 - 10s - loss: 0.0073 - mae: 0.0781 - val_loss: 0.0679 - val_mae: 0.3608\n",
            "Epoch 67/300\n",
            "86/86 - 10s - loss: 0.0072 - mae: 0.0778 - val_loss: 0.0675 - val_mae: 0.3597\n",
            "Epoch 68/300\n",
            "86/86 - 10s - loss: 0.0072 - mae: 0.0775 - val_loss: 0.0670 - val_mae: 0.3583\n",
            "Epoch 69/300\n",
            "86/86 - 10s - loss: 0.0071 - mae: 0.0772 - val_loss: 0.0666 - val_mae: 0.3571\n",
            "Epoch 70/300\n",
            "86/86 - 10s - loss: 0.0071 - mae: 0.0769 - val_loss: 0.0661 - val_mae: 0.3557\n",
            "Epoch 71/300\n",
            "86/86 - 10s - loss: 0.0070 - mae: 0.0767 - val_loss: 0.0656 - val_mae: 0.3543\n",
            "Epoch 72/300\n",
            "86/86 - 10s - loss: 0.0070 - mae: 0.0765 - val_loss: 0.0651 - val_mae: 0.3530\n",
            "Epoch 73/300\n",
            "86/86 - 10s - loss: 0.0069 - mae: 0.0762 - val_loss: 0.0647 - val_mae: 0.3518\n",
            "Epoch 74/300\n",
            "86/86 - 10s - loss: 0.0069 - mae: 0.0760 - val_loss: 0.0642 - val_mae: 0.3505\n",
            "Epoch 75/300\n",
            "86/86 - 10s - loss: 0.0068 - mae: 0.0757 - val_loss: 0.0638 - val_mae: 0.3492\n",
            "Epoch 76/300\n",
            "86/86 - 10s - loss: 0.0068 - mae: 0.0755 - val_loss: 0.0633 - val_mae: 0.3479\n",
            "Epoch 77/300\n",
            "86/86 - 10s - loss: 0.0067 - mae: 0.0752 - val_loss: 0.0628 - val_mae: 0.3466\n",
            "Epoch 78/300\n",
            "86/86 - 10s - loss: 0.0067 - mae: 0.0750 - val_loss: 0.0624 - val_mae: 0.3452\n",
            "Epoch 79/300\n",
            "86/86 - 10s - loss: 0.0067 - mae: 0.0747 - val_loss: 0.0619 - val_mae: 0.3440\n",
            "Epoch 80/300\n",
            "86/86 - 10s - loss: 0.0066 - mae: 0.0745 - val_loss: 0.0615 - val_mae: 0.3427\n",
            "Epoch 81/300\n",
            "86/86 - 10s - loss: 0.0066 - mae: 0.0742 - val_loss: 0.0610 - val_mae: 0.3415\n",
            "Epoch 82/300\n",
            "86/86 - 10s - loss: 0.0065 - mae: 0.0740 - val_loss: 0.0606 - val_mae: 0.3402\n",
            "Epoch 83/300\n",
            "86/86 - 10s - loss: 0.0065 - mae: 0.0737 - val_loss: 0.0601 - val_mae: 0.3389\n",
            "Epoch 84/300\n",
            "86/86 - 10s - loss: 0.0064 - mae: 0.0735 - val_loss: 0.0597 - val_mae: 0.3376\n",
            "Epoch 85/300\n",
            "86/86 - 10s - loss: 0.0064 - mae: 0.0733 - val_loss: 0.0593 - val_mae: 0.3365\n",
            "Epoch 86/300\n",
            "86/86 - 10s - loss: 0.0063 - mae: 0.0730 - val_loss: 0.0589 - val_mae: 0.3352\n",
            "Epoch 87/300\n",
            "86/86 - 10s - loss: 0.0063 - mae: 0.0727 - val_loss: 0.0584 - val_mae: 0.3340\n",
            "Epoch 88/300\n",
            "86/86 - 10s - loss: 0.0063 - mae: 0.0725 - val_loss: 0.0580 - val_mae: 0.3327\n",
            "Epoch 89/300\n",
            "86/86 - 10s - loss: 0.0062 - mae: 0.0723 - val_loss: 0.0576 - val_mae: 0.3315\n",
            "Epoch 90/300\n",
            "86/86 - 10s - loss: 0.0062 - mae: 0.0720 - val_loss: 0.0572 - val_mae: 0.3303\n",
            "Epoch 91/300\n",
            "86/86 - 10s - loss: 0.0061 - mae: 0.0718 - val_loss: 0.0568 - val_mae: 0.3291\n",
            "Epoch 92/300\n",
            "86/86 - 10s - loss: 0.0061 - mae: 0.0715 - val_loss: 0.0564 - val_mae: 0.3278\n",
            "Epoch 93/300\n",
            "86/86 - 10s - loss: 0.0060 - mae: 0.0713 - val_loss: 0.0560 - val_mae: 0.3266\n",
            "Epoch 94/300\n",
            "86/86 - 10s - loss: 0.0060 - mae: 0.0710 - val_loss: 0.0555 - val_mae: 0.3254\n",
            "Epoch 95/300\n",
            "86/86 - 10s - loss: 0.0060 - mae: 0.0708 - val_loss: 0.0552 - val_mae: 0.3242\n",
            "Epoch 96/300\n",
            "86/86 - 10s - loss: 0.0059 - mae: 0.0705 - val_loss: 0.0547 - val_mae: 0.3230\n",
            "Epoch 97/300\n",
            "86/86 - 10s - loss: 0.0059 - mae: 0.0703 - val_loss: 0.0543 - val_mae: 0.3218\n",
            "Epoch 98/300\n",
            "86/86 - 10s - loss: 0.0058 - mae: 0.0700 - val_loss: 0.0539 - val_mae: 0.3205\n",
            "Epoch 99/300\n",
            "86/86 - 10s - loss: 0.0058 - mae: 0.0697 - val_loss: 0.0535 - val_mae: 0.3192\n",
            "Epoch 100/300\n",
            "86/86 - 10s - loss: 0.0058 - mae: 0.0695 - val_loss: 0.0532 - val_mae: 0.3181\n",
            "Epoch 101/300\n",
            "86/86 - 10s - loss: 0.0057 - mae: 0.0692 - val_loss: 0.0527 - val_mae: 0.3169\n",
            "Epoch 102/300\n",
            "86/86 - 10s - loss: 0.0057 - mae: 0.0689 - val_loss: 0.0523 - val_mae: 0.3156\n",
            "Epoch 103/300\n",
            "86/86 - 10s - loss: 0.0056 - mae: 0.0686 - val_loss: 0.0519 - val_mae: 0.3143\n",
            "Epoch 104/300\n",
            "86/86 - 10s - loss: 0.0056 - mae: 0.0684 - val_loss: 0.0515 - val_mae: 0.3131\n",
            "Epoch 105/300\n",
            "86/86 - 10s - loss: 0.0055 - mae: 0.0681 - val_loss: 0.0511 - val_mae: 0.3118\n",
            "Epoch 106/300\n",
            "86/86 - 10s - loss: 0.0055 - mae: 0.0678 - val_loss: 0.0507 - val_mae: 0.3105\n",
            "Epoch 107/300\n",
            "86/86 - 10s - loss: 0.0055 - mae: 0.0675 - val_loss: 0.0503 - val_mae: 0.3093\n",
            "Epoch 108/300\n",
            "86/86 - 10s - loss: 0.0054 - mae: 0.0671 - val_loss: 0.0499 - val_mae: 0.3081\n",
            "Epoch 109/300\n",
            "86/86 - 10s - loss: 0.0054 - mae: 0.0668 - val_loss: 0.0495 - val_mae: 0.3067\n",
            "Epoch 110/300\n",
            "86/86 - 10s - loss: 0.0053 - mae: 0.0665 - val_loss: 0.0491 - val_mae: 0.3054\n",
            "Epoch 111/300\n",
            "86/86 - 10s - loss: 0.0053 - mae: 0.0662 - val_loss: 0.0487 - val_mae: 0.3042\n",
            "Epoch 112/300\n",
            "86/86 - 10s - loss: 0.0052 - mae: 0.0658 - val_loss: 0.0483 - val_mae: 0.3028\n",
            "Epoch 113/300\n",
            "86/86 - 10s - loss: 0.0052 - mae: 0.0654 - val_loss: 0.0479 - val_mae: 0.3014\n",
            "Epoch 114/300\n",
            "86/86 - 10s - loss: 0.0051 - mae: 0.0649 - val_loss: 0.0475 - val_mae: 0.3001\n",
            "Epoch 115/300\n",
            "86/86 - 10s - loss: 0.0051 - mae: 0.0645 - val_loss: 0.0470 - val_mae: 0.2986\n",
            "Epoch 116/300\n",
            "86/86 - 10s - loss: 0.0050 - mae: 0.0642 - val_loss: 0.0465 - val_mae: 0.2971\n",
            "Epoch 117/300\n",
            "86/86 - 10s - loss: 0.0050 - mae: 0.0637 - val_loss: 0.0461 - val_mae: 0.2958\n",
            "Epoch 118/300\n",
            "86/86 - 10s - loss: 0.0049 - mae: 0.0634 - val_loss: 0.0457 - val_mae: 0.2943\n",
            "Epoch 119/300\n",
            "86/86 - 10s - loss: 0.0049 - mae: 0.0630 - val_loss: 0.0453 - val_mae: 0.2928\n",
            "Epoch 120/300\n",
            "86/86 - 10s - loss: 0.0048 - mae: 0.0626 - val_loss: 0.0448 - val_mae: 0.2913\n",
            "Epoch 121/300\n",
            "86/86 - 10s - loss: 0.0048 - mae: 0.0622 - val_loss: 0.0444 - val_mae: 0.2898\n",
            "Epoch 122/300\n",
            "86/86 - 10s - loss: 0.0047 - mae: 0.0618 - val_loss: 0.0439 - val_mae: 0.2882\n",
            "Epoch 123/300\n",
            "86/86 - 10s - loss: 0.0047 - mae: 0.0613 - val_loss: 0.0435 - val_mae: 0.2868\n",
            "Epoch 124/300\n",
            "86/86 - 10s - loss: 0.0046 - mae: 0.0609 - val_loss: 0.0430 - val_mae: 0.2851\n",
            "Epoch 125/300\n",
            "86/86 - 10s - loss: 0.0046 - mae: 0.0605 - val_loss: 0.0426 - val_mae: 0.2836\n",
            "Epoch 126/300\n",
            "86/86 - 10s - loss: 0.0045 - mae: 0.0601 - val_loss: 0.0421 - val_mae: 0.2820\n",
            "Epoch 127/300\n",
            "86/86 - 10s - loss: 0.0045 - mae: 0.0598 - val_loss: 0.0416 - val_mae: 0.2804\n",
            "Epoch 128/300\n",
            "86/86 - 10s - loss: 0.0044 - mae: 0.0594 - val_loss: 0.0412 - val_mae: 0.2788\n",
            "Epoch 129/300\n",
            "86/86 - 10s - loss: 0.0044 - mae: 0.0590 - val_loss: 0.0408 - val_mae: 0.2773\n",
            "Epoch 130/300\n",
            "86/86 - 10s - loss: 0.0043 - mae: 0.0587 - val_loss: 0.0403 - val_mae: 0.2756\n",
            "Epoch 131/300\n",
            "86/86 - 10s - loss: 0.0043 - mae: 0.0583 - val_loss: 0.0399 - val_mae: 0.2742\n",
            "Epoch 132/300\n",
            "86/86 - 10s - loss: 0.0042 - mae: 0.0579 - val_loss: 0.0394 - val_mae: 0.2725\n",
            "Epoch 133/300\n",
            "86/86 - 10s - loss: 0.0042 - mae: 0.0576 - val_loss: 0.0390 - val_mae: 0.2709\n",
            "Epoch 134/300\n",
            "86/86 - 10s - loss: 0.0041 - mae: 0.0572 - val_loss: 0.0385 - val_mae: 0.2692\n",
            "Epoch 135/300\n",
            "86/86 - 10s - loss: 0.0041 - mae: 0.0568 - val_loss: 0.0381 - val_mae: 0.2677\n",
            "Epoch 136/300\n",
            "86/86 - 10s - loss: 0.0041 - mae: 0.0565 - val_loss: 0.0377 - val_mae: 0.2661\n",
            "Epoch 137/300\n",
            "86/86 - 10s - loss: 0.0040 - mae: 0.0561 - val_loss: 0.0372 - val_mae: 0.2645\n",
            "Epoch 138/300\n",
            "86/86 - 10s - loss: 0.0040 - mae: 0.0558 - val_loss: 0.0368 - val_mae: 0.2628\n",
            "Epoch 139/300\n",
            "86/86 - 10s - loss: 0.0039 - mae: 0.0554 - val_loss: 0.0364 - val_mae: 0.2613\n",
            "Epoch 140/300\n",
            "86/86 - 10s - loss: 0.0039 - mae: 0.0550 - val_loss: 0.0359 - val_mae: 0.2595\n",
            "Epoch 141/300\n",
            "86/86 - 10s - loss: 0.0038 - mae: 0.0547 - val_loss: 0.0355 - val_mae: 0.2580\n",
            "Epoch 142/300\n",
            "86/86 - 10s - loss: 0.0038 - mae: 0.0544 - val_loss: 0.0351 - val_mae: 0.2564\n",
            "Epoch 143/300\n",
            "86/86 - 10s - loss: 0.0037 - mae: 0.0540 - val_loss: 0.0347 - val_mae: 0.2547\n",
            "Epoch 144/300\n",
            "86/86 - 10s - loss: 0.0037 - mae: 0.0537 - val_loss: 0.0343 - val_mae: 0.2532\n",
            "Epoch 145/300\n",
            "86/86 - 10s - loss: 0.0037 - mae: 0.0533 - val_loss: 0.0338 - val_mae: 0.2516\n",
            "Epoch 146/300\n",
            "86/86 - 10s - loss: 0.0036 - mae: 0.0530 - val_loss: 0.0334 - val_mae: 0.2499\n",
            "Epoch 147/300\n",
            "86/86 - 10s - loss: 0.0036 - mae: 0.0526 - val_loss: 0.0330 - val_mae: 0.2483\n",
            "Epoch 148/300\n",
            "86/86 - 10s - loss: 0.0035 - mae: 0.0523 - val_loss: 0.0326 - val_mae: 0.2467\n",
            "Epoch 149/300\n",
            "86/86 - 10s - loss: 0.0035 - mae: 0.0519 - val_loss: 0.0322 - val_mae: 0.2450\n",
            "Epoch 150/300\n",
            "86/86 - 10s - loss: 0.0034 - mae: 0.0516 - val_loss: 0.0318 - val_mae: 0.2435\n",
            "Epoch 151/300\n",
            "86/86 - 10s - loss: 0.0034 - mae: 0.0512 - val_loss: 0.0314 - val_mae: 0.2419\n",
            "Epoch 152/300\n",
            "86/86 - 10s - loss: 0.0034 - mae: 0.0508 - val_loss: 0.0310 - val_mae: 0.2403\n",
            "Epoch 153/300\n",
            "86/86 - 10s - loss: 0.0033 - mae: 0.0505 - val_loss: 0.0306 - val_mae: 0.2386\n",
            "Epoch 154/300\n",
            "86/86 - 10s - loss: 0.0033 - mae: 0.0501 - val_loss: 0.0302 - val_mae: 0.2370\n",
            "Epoch 155/300\n",
            "86/86 - 10s - loss: 0.0032 - mae: 0.0497 - val_loss: 0.0298 - val_mae: 0.2354\n",
            "Epoch 156/300\n",
            "86/86 - 10s - loss: 0.0032 - mae: 0.0494 - val_loss: 0.0294 - val_mae: 0.2337\n",
            "Epoch 157/300\n",
            "86/86 - 10s - loss: 0.0031 - mae: 0.0490 - val_loss: 0.0290 - val_mae: 0.2321\n",
            "Epoch 158/300\n",
            "86/86 - 10s - loss: 0.0031 - mae: 0.0487 - val_loss: 0.0286 - val_mae: 0.2304\n",
            "Epoch 159/300\n",
            "86/86 - 10s - loss: 0.0031 - mae: 0.0483 - val_loss: 0.0283 - val_mae: 0.2287\n",
            "Epoch 160/300\n",
            "86/86 - 10s - loss: 0.0030 - mae: 0.0479 - val_loss: 0.0279 - val_mae: 0.2272\n",
            "Epoch 161/300\n",
            "86/86 - 10s - loss: 0.0030 - mae: 0.0476 - val_loss: 0.0275 - val_mae: 0.2255\n",
            "Epoch 162/300\n",
            "86/86 - 10s - loss: 0.0029 - mae: 0.0472 - val_loss: 0.0271 - val_mae: 0.2238\n",
            "Epoch 163/300\n",
            "86/86 - 10s - loss: 0.0029 - mae: 0.0468 - val_loss: 0.0268 - val_mae: 0.2222\n",
            "Epoch 164/300\n",
            "86/86 - 10s - loss: 0.0029 - mae: 0.0465 - val_loss: 0.0264 - val_mae: 0.2205\n",
            "Epoch 165/300\n",
            "86/86 - 10s - loss: 0.0028 - mae: 0.0461 - val_loss: 0.0260 - val_mae: 0.2188\n",
            "Epoch 166/300\n",
            "86/86 - 10s - loss: 0.0028 - mae: 0.0457 - val_loss: 0.0256 - val_mae: 0.2172\n",
            "Epoch 167/300\n",
            "86/86 - 10s - loss: 0.0028 - mae: 0.0453 - val_loss: 0.0253 - val_mae: 0.2155\n",
            "Epoch 168/300\n",
            "86/86 - 10s - loss: 0.0027 - mae: 0.0450 - val_loss: 0.0249 - val_mae: 0.2138\n",
            "Epoch 169/300\n",
            "86/86 - 10s - loss: 0.0027 - mae: 0.0446 - val_loss: 0.0245 - val_mae: 0.2122\n",
            "Epoch 170/300\n",
            "86/86 - 10s - loss: 0.0026 - mae: 0.0442 - val_loss: 0.0242 - val_mae: 0.2106\n",
            "Epoch 171/300\n",
            "86/86 - 10s - loss: 0.0026 - mae: 0.0438 - val_loss: 0.0238 - val_mae: 0.2089\n",
            "Epoch 172/300\n",
            "86/86 - 10s - loss: 0.0026 - mae: 0.0434 - val_loss: 0.0235 - val_mae: 0.2073\n",
            "Epoch 173/300\n",
            "86/86 - 10s - loss: 0.0025 - mae: 0.0429 - val_loss: 0.0231 - val_mae: 0.2056\n",
            "Epoch 174/300\n",
            "86/86 - 10s - loss: 0.0025 - mae: 0.0425 - val_loss: 0.0228 - val_mae: 0.2039\n",
            "Epoch 175/300\n",
            "86/86 - 10s - loss: 0.0024 - mae: 0.0420 - val_loss: 0.0224 - val_mae: 0.2023\n",
            "Epoch 176/300\n",
            "86/86 - 10s - loss: 0.0024 - mae: 0.0415 - val_loss: 0.0221 - val_mae: 0.2006\n",
            "Epoch 177/300\n",
            "86/86 - 10s - loss: 0.0024 - mae: 0.0410 - val_loss: 0.0217 - val_mae: 0.1988\n",
            "Epoch 178/300\n",
            "86/86 - 10s - loss: 0.0023 - mae: 0.0404 - val_loss: 0.0213 - val_mae: 0.1969\n",
            "Epoch 179/300\n",
            "86/86 - 10s - loss: 0.0023 - mae: 0.0398 - val_loss: 0.0210 - val_mae: 0.1952\n",
            "Epoch 180/300\n",
            "86/86 - 10s - loss: 0.0022 - mae: 0.0393 - val_loss: 0.0206 - val_mae: 0.1933\n",
            "Epoch 181/300\n",
            "86/86 - 10s - loss: 0.0022 - mae: 0.0388 - val_loss: 0.0203 - val_mae: 0.1914\n",
            "Epoch 182/300\n",
            "86/86 - 10s - loss: 0.0022 - mae: 0.0383 - val_loss: 0.0199 - val_mae: 0.1896\n",
            "Epoch 183/300\n",
            "86/86 - 10s - loss: 0.0021 - mae: 0.0377 - val_loss: 0.0196 - val_mae: 0.1877\n",
            "Epoch 184/300\n",
            "86/86 - 10s - loss: 0.0021 - mae: 0.0372 - val_loss: 0.0192 - val_mae: 0.1859\n",
            "Epoch 185/300\n",
            "86/86 - 10s - loss: 0.0020 - mae: 0.0368 - val_loss: 0.0188 - val_mae: 0.1839\n",
            "Epoch 186/300\n",
            "86/86 - 10s - loss: 0.0020 - mae: 0.0363 - val_loss: 0.0185 - val_mae: 0.1821\n",
            "Epoch 187/300\n",
            "86/86 - 10s - loss: 0.0020 - mae: 0.0358 - val_loss: 0.0182 - val_mae: 0.1802\n",
            "Epoch 188/300\n",
            "86/86 - 10s - loss: 0.0019 - mae: 0.0354 - val_loss: 0.0178 - val_mae: 0.1783\n",
            "Epoch 189/300\n",
            "86/86 - 10s - loss: 0.0019 - mae: 0.0349 - val_loss: 0.0175 - val_mae: 0.1766\n",
            "Epoch 190/300\n",
            "86/86 - 10s - loss: 0.0018 - mae: 0.0344 - val_loss: 0.0172 - val_mae: 0.1747\n",
            "Epoch 191/300\n",
            "86/86 - 10s - loss: 0.0018 - mae: 0.0340 - val_loss: 0.0168 - val_mae: 0.1729\n",
            "Epoch 192/300\n",
            "86/86 - 10s - loss: 0.0018 - mae: 0.0335 - val_loss: 0.0165 - val_mae: 0.1709\n",
            "Epoch 193/300\n",
            "86/86 - 10s - loss: 0.0017 - mae: 0.0331 - val_loss: 0.0162 - val_mae: 0.1690\n",
            "Epoch 194/300\n",
            "86/86 - 10s - loss: 0.0017 - mae: 0.0326 - val_loss: 0.0159 - val_mae: 0.1672\n",
            "Epoch 195/300\n",
            "86/86 - 10s - loss: 0.0017 - mae: 0.0322 - val_loss: 0.0155 - val_mae: 0.1653\n",
            "Epoch 196/300\n",
            "86/86 - 10s - loss: 0.0016 - mae: 0.0317 - val_loss: 0.0152 - val_mae: 0.1634\n",
            "Epoch 197/300\n",
            "86/86 - 10s - loss: 0.0016 - mae: 0.0313 - val_loss: 0.0149 - val_mae: 0.1617\n",
            "Epoch 198/300\n",
            "86/86 - 10s - loss: 0.0016 - mae: 0.0309 - val_loss: 0.0146 - val_mae: 0.1598\n",
            "Epoch 199/300\n",
            "86/86 - 10s - loss: 0.0015 - mae: 0.0305 - val_loss: 0.0143 - val_mae: 0.1579\n",
            "Epoch 200/300\n",
            "86/86 - 10s - loss: 0.0015 - mae: 0.0300 - val_loss: 0.0140 - val_mae: 0.1562\n",
            "Epoch 201/300\n",
            "86/86 - 10s - loss: 0.0015 - mae: 0.0296 - val_loss: 0.0137 - val_mae: 0.1543\n",
            "Epoch 202/300\n",
            "86/86 - 10s - loss: 0.0015 - mae: 0.0292 - val_loss: 0.0135 - val_mae: 0.1526\n",
            "Epoch 203/300\n",
            "86/86 - 10s - loss: 0.0014 - mae: 0.0288 - val_loss: 0.0132 - val_mae: 0.1508\n",
            "Epoch 204/300\n",
            "86/86 - 10s - loss: 0.0014 - mae: 0.0284 - val_loss: 0.0129 - val_mae: 0.1491\n",
            "Epoch 205/300\n",
            "86/86 - 10s - loss: 0.0014 - mae: 0.0280 - val_loss: 0.0127 - val_mae: 0.1474\n",
            "Epoch 206/300\n",
            "86/86 - 10s - loss: 0.0013 - mae: 0.0277 - val_loss: 0.0124 - val_mae: 0.1456\n",
            "Epoch 207/300\n",
            "86/86 - 10s - loss: 0.0013 - mae: 0.0273 - val_loss: 0.0121 - val_mae: 0.1439\n",
            "Epoch 208/300\n",
            "86/86 - 10s - loss: 0.0013 - mae: 0.0269 - val_loss: 0.0119 - val_mae: 0.1422\n",
            "Epoch 209/300\n",
            "86/86 - 10s - loss: 0.0013 - mae: 0.0265 - val_loss: 0.0116 - val_mae: 0.1405\n",
            "Epoch 210/300\n",
            "86/86 - 10s - loss: 0.0012 - mae: 0.0262 - val_loss: 0.0114 - val_mae: 0.1389\n",
            "Epoch 211/300\n",
            "86/86 - 10s - loss: 0.0012 - mae: 0.0258 - val_loss: 0.0112 - val_mae: 0.1372\n",
            "Epoch 212/300\n",
            "86/86 - 10s - loss: 0.0012 - mae: 0.0255 - val_loss: 0.0109 - val_mae: 0.1355\n",
            "Epoch 213/300\n",
            "86/86 - 10s - loss: 0.0012 - mae: 0.0251 - val_loss: 0.0107 - val_mae: 0.1339\n",
            "Epoch 214/300\n",
            "86/86 - 10s - loss: 0.0011 - mae: 0.0248 - val_loss: 0.0105 - val_mae: 0.1323\n",
            "Epoch 215/300\n",
            "86/86 - 10s - loss: 0.0011 - mae: 0.0244 - val_loss: 0.0103 - val_mae: 0.1306\n",
            "Epoch 216/300\n",
            "86/86 - 10s - loss: 0.0011 - mae: 0.0241 - val_loss: 0.0100 - val_mae: 0.1290\n",
            "Epoch 217/300\n",
            "86/86 - 10s - loss: 0.0011 - mae: 0.0238 - val_loss: 0.0098 - val_mae: 0.1275\n",
            "Epoch 218/300\n",
            "86/86 - 10s - loss: 0.0011 - mae: 0.0234 - val_loss: 0.0096 - val_mae: 0.1259\n",
            "Epoch 219/300\n",
            "86/86 - 10s - loss: 0.0010 - mae: 0.0231 - val_loss: 0.0094 - val_mae: 0.1244\n",
            "Epoch 220/300\n",
            "86/86 - 10s - loss: 0.0010 - mae: 0.0228 - val_loss: 0.0092 - val_mae: 0.1228\n",
            "Epoch 221/300\n",
            "86/86 - 10s - loss: 9.9093e-04 - mae: 0.0225 - val_loss: 0.0090 - val_mae: 0.1213\n",
            "Epoch 222/300\n",
            "86/86 - 10s - loss: 9.7154e-04 - mae: 0.0222 - val_loss: 0.0088 - val_mae: 0.1198\n",
            "Epoch 223/300\n",
            "86/86 - 10s - loss: 9.5218e-04 - mae: 0.0218 - val_loss: 0.0087 - val_mae: 0.1183\n",
            "Epoch 224/300\n",
            "86/86 - 10s - loss: 9.3381e-04 - mae: 0.0216 - val_loss: 0.0085 - val_mae: 0.1167\n",
            "Epoch 225/300\n",
            "86/86 - 10s - loss: 9.1570e-04 - mae: 0.0213 - val_loss: 0.0083 - val_mae: 0.1153\n",
            "Epoch 226/300\n",
            "86/86 - 10s - loss: 8.9788e-04 - mae: 0.0210 - val_loss: 0.0081 - val_mae: 0.1138\n",
            "Epoch 227/300\n",
            "86/86 - 10s - loss: 8.8062e-04 - mae: 0.0207 - val_loss: 0.0080 - val_mae: 0.1124\n",
            "Epoch 228/300\n",
            "86/86 - 10s - loss: 8.6364e-04 - mae: 0.0204 - val_loss: 0.0078 - val_mae: 0.1109\n",
            "Epoch 229/300\n",
            "86/86 - 10s - loss: 8.4706e-04 - mae: 0.0202 - val_loss: 0.0076 - val_mae: 0.1095\n",
            "Epoch 230/300\n",
            "86/86 - 10s - loss: 8.3071e-04 - mae: 0.0199 - val_loss: 0.0075 - val_mae: 0.1081\n",
            "Epoch 231/300\n",
            "86/86 - 10s - loss: 8.1484e-04 - mae: 0.0196 - val_loss: 0.0073 - val_mae: 0.1067\n",
            "Epoch 232/300\n",
            "86/86 - 10s - loss: 7.9928e-04 - mae: 0.0194 - val_loss: 0.0071 - val_mae: 0.1053\n",
            "Epoch 233/300\n",
            "86/86 - 10s - loss: 7.8372e-04 - mae: 0.0191 - val_loss: 0.0070 - val_mae: 0.1040\n",
            "Epoch 234/300\n",
            "86/86 - 10s - loss: 7.6891e-04 - mae: 0.0188 - val_loss: 0.0068 - val_mae: 0.1026\n",
            "Epoch 235/300\n",
            "86/86 - 10s - loss: 7.5442e-04 - mae: 0.0186 - val_loss: 0.0067 - val_mae: 0.1012\n",
            "Epoch 236/300\n",
            "86/86 - 10s - loss: 7.4023e-04 - mae: 0.0183 - val_loss: 0.0066 - val_mae: 0.0999\n"
          ],
          "name": "stdout"
        }
      ]
    },
    {
      "cell_type": "code",
      "metadata": {
        "colab": {
          "base_uri": "https://localhost:8080/",
          "height": 295
        },
        "id": "-1uvjSIsPeca",
        "outputId": "535396ec-4a14-4ce8-8557-22e2d24eaed8"
      },
      "source": [
        "import matplotlib.pyplot as plt\n",
        "\n",
        "plt.plot(history.history['loss'])\n",
        "plt.plot(history.history['val_loss'])\n",
        "plt.title('Model Loss')\n",
        "plt.ylabel('Loss')\n",
        "plt.xlabel('Epoch')\n",
        "plt.legend(['Train', 'Test'], loc='upper right')\n",
        "plt.show()"
      ],
      "execution_count": 44,
      "outputs": [
        {
          "output_type": "display_data",
          "data": {
            "image/png": "[encoded data removed]",
            "text/plain": [
              "<Figure size 432x288 with 1 Axes>"
            ]
          },
          "metadata": {
            "tags": [],
            "needs_background": "light"
          }
        }
      ]
    },
    {
      "cell_type": "code",
      "metadata": {
        "colab": {
          "base_uri": "https://localhost:8080/",
          "height": 295
        },
        "id": "CcMT09bNfmO7",
        "outputId": "63c9b0df-9d39-443b-fbce-bd202a7aafd2"
      },
      "source": [
        "plt.plot(history.history['mae'])\n",
        "plt.plot(history.history['val_mae'])\n",
        "plt.title('Model Accuracy')\n",
        "plt.ylabel('Accuracy')\n",
        "plt.xlabel('Epoch')\n",
        "plt.legend(['Train', 'Test'], loc='upper right')\n",
        "plt.show()"
      ],
      "execution_count": 45,
      "outputs": [
        {
          "output_type": "display_data",
          "data": {
            "image/png": "[encoded data removed]",
            "text/plain": [
              "<Figure size 432x288 with 1 Axes>"
            ]
          },
          "metadata": {
            "tags": [],
            "needs_background": "light"
          }
        }
      ]
    },
    {
      "cell_type": "code",
      "metadata": {
        "id": "kxNpfC37ht4U"
      },
      "source": [
        ""
      ],
      "execution_count": null,
      "outputs": []
    }
  ]
}