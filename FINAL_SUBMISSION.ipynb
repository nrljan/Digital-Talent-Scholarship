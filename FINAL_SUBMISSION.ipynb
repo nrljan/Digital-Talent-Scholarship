{
  "nbformat": 4,
  "nbformat_minor": 0,
  "metadata": {
    "colab": {
      "name": "FINAL_SUBMISSION.ipynb",
      "provenance": [],
      "collapsed_sections": []
    },
    "kernelspec": {
      "name": "python3",
      "display_name": "Python 3"
    },
    "language_info": {
      "name": "python"
    },
    "accelerator": "GPU"
  },
  "cells": [
    {
      "cell_type": "markdown",
      "metadata": {
        "id": "AXS33Lp2yAaa"
      },
      "source": [
        "# Pendahuluan\n",
        "Nurul Jannah (personal.nuruljannah@gmail.com)\n",
        "\n",
        "Berikut Pemodelan Jaringan Syaraf Tiruan untuk Klasifikasi Gambar *rock, paper, scissors* yang saya susun untuk memenuhi syarat lulus kelas 'Belajar Machine Learning untuk Pemula'."
      ]
    },
    {
      "cell_type": "markdown",
      "metadata": {
        "id": "uyysPn84ylCb"
      },
      "source": [
        "# Import Modul\n",
        "Pada bagian ini akan di import beberapa modul yang diperlukan dalam pemodelan jaringan syaraf tiruan untuk klasifikasi gambar menggunakan Tensorflow."
      ]
    },
    {
      "cell_type": "code",
      "metadata": {
        "id": "30HdHKX-GLTI"
      },
      "source": [
        "import tensorflow as tf\n",
        "from tensorflow.keras.optimizers import RMSprop\n",
        "from tensorflow.keras.preprocessing.image import ImageDataGenerator"
      ],
      "execution_count": 1,
      "outputs": []
    },
    {
      "cell_type": "markdown",
      "metadata": {
        "id": "pZB8emPDy4Rp"
      },
      "source": [
        "# Mengakses Dataset\n",
        "1. Mengunduh Dataset\n",
        "\n",
        "Mengunduh dataset *rock-paper-scisscors* yang telah disediakan dicoding."
      ]
    },
    {
      "cell_type": "code",
      "metadata": {
        "colab": {
          "base_uri": "https://localhost:8080/"
        },
        "id": "GsM6xw2fTov_",
        "outputId": "e8832524-7713-4c0f-a68f-47629ea40261"
      },
      "source": [
        "!wget https://dicodingacademy.blob.core.windows.net/picodiploma/ml_pemula_academy/rockpaperscissors.zip"
      ],
      "execution_count": 2,
      "outputs": [
        {
          "output_type": "stream",
          "text": [
            "--2021-07-05 10:00:43--  https://dicodingacademy.blob.core.windows.net/picodiploma/ml_pemula_academy/rockpaperscissors.zip\n",
            "Resolving dicodingacademy.blob.core.windows.net (dicodingacademy.blob.core.windows.net)... 52.239.197.36\n",
            "Connecting to dicodingacademy.blob.core.windows.net (dicodingacademy.blob.core.windows.net)|52.239.197.36|:443... connected.\n",
            "HTTP request sent, awaiting response... 200 OK\n",
            "Length: 322873683 (308M) [application/zip]\n",
            "Saving to: ‘rockpaperscissors.zip.3’\n",
            "\n",
            "rockpaperscissors.z 100%[===================>] 307.92M  6.80MB/s    in 60s     \n",
            "\n",
            "2021-07-05 10:01:44 (5.10 MB/s) - ‘rockpaperscissors.zip.3’ saved [322873683/322873683]\n",
            "\n"
          ],
          "name": "stdout"
        }
      ]
    },
    {
      "cell_type": "markdown",
      "metadata": {
        "id": "BI_jGubyzNX_"
      },
      "source": [
        "2. Mengekstrak file zip\n",
        "\n",
        "Mengekstrak dataset yang telah diunduh sebelumnya."
      ]
    },
    {
      "cell_type": "code",
      "metadata": {
        "id": "jWnVHEi0T_5u"
      },
      "source": [
        "import os\n",
        "import zipfile\n",
        "\n",
        "local_zip = '/content/rockpaperscissors.zip'\n",
        "zip_ref = zipfile.ZipFile(local_zip, 'r')\n",
        "zip_ref.extractall('/content')\n",
        "zip_ref.close()"
      ],
      "execution_count": 3,
      "outputs": []
    },
    {
      "cell_type": "code",
      "metadata": {
        "colab": {
          "base_uri": "https://localhost:8080/"
        },
        "id": "3UvvnCsbUjWv",
        "outputId": "8213e4bd-7e3c-47f7-b3de-41b72f94072d"
      },
      "source": [
        "base_dir = '/content/rockpaperscissors/rps-cv-images'\n",
        "os.listdir(base_dir)"
      ],
      "execution_count": 4,
      "outputs": [
        {
          "output_type": "execute_result",
          "data": {
            "text/plain": [
              "['rock', 'README_rpc-cv-images.txt', 'scissors', 'paper']"
            ]
          },
          "metadata": {
            "tags": []
          },
          "execution_count": 4
        }
      ]
    },
    {
      "cell_type": "markdown",
      "metadata": {
        "id": "ulTC_99F34Wa"
      },
      "source": [
        "# Membuat Objek ImageDataGenerator\n",
        "Pada tahap ini akan dibuat objek ImageDataGenerator untuk data training dan data validation. Tujuan dari pembuatan objek ini adalah untuk mempersiapkan data latih dan data validasi yang akan diberikan ke model."
      ]
    },
    {
      "cell_type": "code",
      "metadata": {
        "id": "-xqnBe7qkHQY"
      },
      "source": [
        "#!rm -rf /content/rockpaperscissors/rps-cv-images/.ipynb_checkpoints"
      ],
      "execution_count": 5,
      "outputs": []
    },
    {
      "cell_type": "markdown",
      "metadata": {
        "id": "RT4dFflC6Phg"
      },
      "source": [
        "Kode di bawah menunjukkan proses augmentasi gambar pada setiap sampel di dataset. Hal ini bertujuan untuk memperkaya dataset dengan menciptakan data-data baru dari data yang telah ada. Selain itu, pada tahap ini dilakukan pemisahan dataset menjadi data training dan data validation dengan rasio 60% untuk data training dan 40% untuk data validation."
      ]
    },
    {
      "cell_type": "code",
      "metadata": {
        "id": "1eo31gOnUsTi"
      },
      "source": [
        "train_datagen = ImageDataGenerator(\n",
        "                  rescale = 1./255,\n",
        "                  rotation_range = 20,\n",
        "                  horizontal_flip = True,\n",
        "                  vertical_flip = True,\n",
        "                  shear_range = 0.2,\n",
        "                  fill_mode = 'wrap',\n",
        "                  validation_split = 0.4)\n",
        "\n",
        "val_datagen = ImageDataGenerator(\n",
        "               rescale = 1./255,\n",
        "               rotation_range = 20,\n",
        "               horizontal_flip = True,\n",
        "                vertical_flip = True,\n",
        "                shear_range = 0.2,\n",
        "                fill_mode = 'wrap',\n",
        "                validation_split = 0.4)"
      ],
      "execution_count": 6,
      "outputs": []
    },
    {
      "cell_type": "code",
      "metadata": {
        "colab": {
          "base_uri": "https://localhost:8080/"
        },
        "id": "oEGXQdBVWnP8",
        "outputId": "257f9ebe-d0f7-45b9-a98c-9b176a85ae40"
      },
      "source": [
        "train_generator = train_datagen.flow_from_directory(\n",
        "                    base_dir,\n",
        "                    target_size = (150,150),\n",
        "                    color_mode = 'grayscale',\n",
        "                    batch_size = 32,\n",
        "                    shuffle = True,\n",
        "                    subset ='training',\n",
        "                    class_mode = 'categorical')\n",
        "\n",
        "val_generator = val_datagen.flow_from_directory(\n",
        "                    base_dir,\n",
        "                    target_size = (150,150),\n",
        "                    color_mode = 'grayscale',\n",
        "                    batch_size = 32,\n",
        "                    shuffle = True,\n",
        "                    subset = 'validation',\n",
        "                    class_mode = 'categorical')"
      ],
      "execution_count": 7,
      "outputs": [
        {
          "output_type": "stream",
          "text": [
            "Found 1314 images belonging to 3 classes.\n",
            "Found 874 images belonging to 3 classes.\n"
          ],
          "name": "stdout"
        }
      ]
    },
    {
      "cell_type": "markdown",
      "metadata": {
        "id": "DBfnAqav9hYD"
      },
      "source": [
        "# Membangun Arsitektur CNN\n",
        "Pada tahap ini akan dibuat suatu model Sequential dengan memanfaatkan algoritma CNN."
      ]
    },
    {
      "cell_type": "code",
      "metadata": {
        "id": "0dKvpRY_YXRV"
      },
      "source": [
        "model = tf.keras.models.Sequential([ \n",
        "        tf.keras.layers.Conv2D(32, (3,3), activation='relu', input_shape=(150,150,1)),\n",
        "        tf.keras.layers.MaxPooling2D(2,2),\n",
        "        tf.keras.layers.Conv2D(64, (3,3), activation='relu'),\n",
        "        tf.keras.layers.MaxPool2D(2,2),                                    \n",
        "        tf.keras.layers.Conv2D(128, (3,3), activation='relu'),\n",
        "        tf.keras.layers.MaxPool2D(2,2),                                    \n",
        "        tf.keras.layers.Conv2D(512, (3,3), activation='relu'),\n",
        "        tf.keras.layers.MaxPool2D(2,2),                            \n",
        "        tf.keras.layers.Flatten(),\n",
        "        tf.keras.layers.Dense(128, activation='relu'),\n",
        "        tf.keras.layers.Dense(3, activation='softmax')])"
      ],
      "execution_count": 8,
      "outputs": []
    },
    {
      "cell_type": "code",
      "metadata": {
        "id": "Uqe9MbqVfrMw"
      },
      "source": [
        "model.compile(loss = 'categorical_crossentropy',\n",
        "              optimizer = 'adam',\n",
        "              metrics = ['accuracy'])"
      ],
      "execution_count": 9,
      "outputs": []
    },
    {
      "cell_type": "code",
      "metadata": {
        "colab": {
          "base_uri": "https://localhost:8080/"
        },
        "id": "yXq-dOxdgZ6n",
        "outputId": "b36be611-7b1b-40f5-a314-6fb1aef410aa"
      },
      "source": [
        "# Melatih model\n",
        "\n",
        "history = model.fit(\n",
        "          train_generator,\n",
        "          steps_per_epoch = 25,\n",
        "          epochs = 25,\n",
        "          validation_data = val_generator,\n",
        "          validation_steps = 5,\n",
        "          verbose = 2)"
      ],
      "execution_count": 10,
      "outputs": [
        {
          "output_type": "stream",
          "text": [
            "Epoch 1/25\n",
            "25/25 - 7s - loss: 1.1144 - accuracy: 0.3063 - val_loss: 1.0987 - val_accuracy: 0.3313\n",
            "Epoch 2/25\n",
            "25/25 - 3s - loss: 1.0992 - accuracy: 0.3481 - val_loss: 1.0929 - val_accuracy: 0.3750\n",
            "Epoch 3/25\n",
            "25/25 - 3s - loss: 1.0932 - accuracy: 0.3532 - val_loss: 1.0787 - val_accuracy: 0.3187\n",
            "Epoch 4/25\n",
            "25/25 - 3s - loss: 0.8753 - accuracy: 0.5078 - val_loss: 0.8163 - val_accuracy: 0.4938\n",
            "Epoch 5/25\n",
            "25/25 - 3s - loss: 0.7337 - accuracy: 0.6650 - val_loss: 0.6554 - val_accuracy: 0.6687\n",
            "Epoch 6/25\n",
            "25/25 - 3s - loss: 0.6540 - accuracy: 0.6975 - val_loss: 0.5836 - val_accuracy: 0.8062\n",
            "Epoch 7/25\n",
            "25/25 - 3s - loss: 0.6000 - accuracy: 0.7325 - val_loss: 0.5623 - val_accuracy: 0.7875\n",
            "Epoch 8/25\n",
            "25/25 - 3s - loss: 0.4178 - accuracy: 0.8519 - val_loss: 0.3448 - val_accuracy: 0.8875\n",
            "Epoch 9/25\n",
            "25/25 - 3s - loss: 0.3237 - accuracy: 0.8909 - val_loss: 0.3127 - val_accuracy: 0.9062\n",
            "Epoch 10/25\n",
            "25/25 - 3s - loss: 0.3073 - accuracy: 0.9025 - val_loss: 0.1699 - val_accuracy: 0.9438\n",
            "Epoch 11/25\n",
            "25/25 - 3s - loss: 0.2085 - accuracy: 0.9300 - val_loss: 0.1083 - val_accuracy: 0.9438\n",
            "Epoch 12/25\n",
            "25/25 - 3s - loss: 0.2254 - accuracy: 0.9299 - val_loss: 0.2493 - val_accuracy: 0.9375\n",
            "Epoch 13/25\n",
            "25/25 - 3s - loss: 0.1932 - accuracy: 0.9208 - val_loss: 0.0925 - val_accuracy: 0.9812\n",
            "Epoch 14/25\n",
            "25/25 - 3s - loss: 0.1477 - accuracy: 0.9494 - val_loss: 0.2078 - val_accuracy: 0.9312\n",
            "Epoch 15/25\n",
            "25/25 - 3s - loss: 0.1486 - accuracy: 0.9494 - val_loss: 0.1090 - val_accuracy: 0.9750\n",
            "Epoch 16/25\n",
            "25/25 - 3s - loss: 0.1196 - accuracy: 0.9663 - val_loss: 0.1810 - val_accuracy: 0.9688\n",
            "Epoch 17/25\n",
            "25/25 - 3s - loss: 0.0871 - accuracy: 0.9766 - val_loss: 0.0934 - val_accuracy: 0.9688\n",
            "Epoch 18/25\n",
            "25/25 - 3s - loss: 0.0886 - accuracy: 0.9753 - val_loss: 0.1412 - val_accuracy: 0.9750\n",
            "Epoch 19/25\n",
            "25/25 - 3s - loss: 0.1034 - accuracy: 0.9662 - val_loss: 0.1268 - val_accuracy: 0.9625\n",
            "Epoch 20/25\n",
            "25/25 - 3s - loss: 0.0822 - accuracy: 0.9818 - val_loss: 0.1916 - val_accuracy: 0.9563\n",
            "Epoch 21/25\n",
            "25/25 - 3s - loss: 0.0753 - accuracy: 0.9812 - val_loss: 0.1935 - val_accuracy: 0.9500\n",
            "Epoch 22/25\n",
            "25/25 - 3s - loss: 0.0628 - accuracy: 0.9818 - val_loss: 0.0634 - val_accuracy: 0.9750\n",
            "Epoch 23/25\n",
            "25/25 - 3s - loss: 0.0559 - accuracy: 0.9812 - val_loss: 0.1379 - val_accuracy: 0.9563\n",
            "Epoch 24/25\n",
            "25/25 - 3s - loss: 0.0983 - accuracy: 0.9623 - val_loss: 0.1111 - val_accuracy: 0.9750\n",
            "Epoch 25/25\n",
            "25/25 - 3s - loss: 0.0661 - accuracy: 0.9812 - val_loss: 0.0657 - val_accuracy: 0.9875\n"
          ],
          "name": "stdout"
        }
      ]
    },
    {
      "cell_type": "code",
      "metadata": {
        "id": "3SF3eOSzq8sD",
        "colab": {
          "resources": {
            "http://localhost:8080/nbextensions/google.colab/files.js": {
              "data": "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",
              "ok": true,
              "headers": [
                [
                  "content-type",
                  "application/javascript"
                ]
              ],
              "status": 200,
              "status_text": ""
            }
          },
          "base_uri": "https://localhost:8080/",
          "height": 358
        },
        "outputId": "1e3a2804-06fc-4b28-8d12-0058b2b20d0b"
      },
      "source": [
        "import numpy as np\n",
        "from google.colab import files\n",
        "from keras.preprocessing import image\n",
        "import matplotlib.pyplot as plt\n",
        "import matplotlib.image as mpimg\n",
        "%matplotlib inline\n",
        "\n",
        "uploaded = files.upload()\n",
        "\n",
        "for fn in uploaded.keys():\n",
        "  \n",
        "  # prediksi gambar\n",
        "  path = fn\n",
        "  img = image.load_img(path, target_size = (150, 150), color_mode = 'grayscale')\n",
        "  imgplot = plt.imshow(img)\n",
        "  x = image.img_to_array(img)\n",
        "  x = np.expand_dims(x, axis=0)\n",
        "\n",
        "  images = np.vstack([x])\n",
        "  classes = model.predict(images, batch_size = 10)\n",
        "\n",
        "  print(fn)\n",
        "  if classes[0,0]!=0:\n",
        "    print('paper')\n",
        "  elif classes[0,1]!=0:\n",
        "    print('rock')\n",
        "  else:\n",
        "    print('scissors')"
      ],
      "execution_count": 11,
      "outputs": [
        {
          "output_type": "display_data",
          "data": {
            "text/html": [
              "\n",
              "     <input type=\"file\" id=\"files-58e0f73f-e47b-4463-bb22-40a6c1b99f2b\" name=\"files[]\" multiple disabled\n",
              "        style=\"border:none\" />\n",
              "     <output id=\"result-58e0f73f-e47b-4463-bb22-40a6c1b99f2b\">\n",
              "      Upload widget is only available when the cell has been executed in the\n",
              "      current browser session. Please rerun this cell to enable.\n",
              "      </output>\n",
              "      <script src=\"/nbextensions/google.colab/files.js\"></script> "
            ],
            "text/plain": [
              "<IPython.core.display.HTML object>"
            ]
          },
          "metadata": {
            "tags": []
          }
        },
        {
          "output_type": "stream",
          "text": [
            "Saving 00nKV8oHuTGi20gq.png to 00nKV8oHuTGi20gq (5).png\n",
            "00nKV8oHuTGi20gq.png\n",
            "rock\n"
          ],
          "name": "stdout"
        },
        {
          "output_type": "display_data",
          "data": {
            "image/png": "[encoded data removed]",
            "text/plain": [
              "<Figure size 432x288 with 1 Axes>"
            ]
          },
          "metadata": {
            "tags": [],
            "needs_background": "light"
          }
        }
      ]
    }
  ]
}